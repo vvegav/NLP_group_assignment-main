{
 "cells": [
  {
   "cell_type": "code",
   "execution_count": null,
   "id": "initial_id",
   "metadata": {
    "collapsed": true,
    "is_executing": true,
    "ExecuteTime": {
     "start_time": "2024-02-17T18:30:39.852586Z"
    }
   },
   "outputs": [
    {
     "name": "stdout",
     "output_type": "stream",
     "text": [
      "Intel MKL WARNING: Support of Intel(R) Streaming SIMD Extensions 4.2 (Intel(R) SSE4.2) enabled only processors has been deprecated. Intel oneAPI Math Kernel Library 2025.0 will require Intel(R) Advanced Vector Extensions (Intel(R) AVX) instructions.\n",
      "Intel MKL WARNING: Support of Intel(R) Streaming SIMD Extensions 4.2 (Intel(R) SSE4.2) enabled only processors has been deprecated. Intel oneAPI Math Kernel Library 2025.0 will require Intel(R) Advanced Vector Extensions (Intel(R) AVX) instructions.\n"
     ]
    }
   ],
   "source": [
    "import gradio as gr\n",
    "import whisper\n",
    "from newspaper import Article\n",
    "from transformers import AutoTokenizer, BartForConditionalGeneration\n",
    "import os\n",
    "from openai import OpenAI\n",
    "from dotenv import load_dotenv\n",
    "\n",
    "load_dotenv()\n",
    "client = OpenAI(api_key=os.getenv('OPENAI'))\n",
    "\n",
    "model = BartForConditionalGeneration.from_pretrained(\"facebook/bart-large-cnn\")\n",
    "tokenizer = AutoTokenizer.from_pretrained(\"facebook/bart-large-cnn\")\n",
    "whisper_model = whisper.load_model('base.en')"
   ]
  },
  {
   "cell_type": "markdown",
   "source": [
    "## Program variables"
   ],
   "metadata": {
    "collapsed": false
   },
   "id": "93447ac23bb8cece"
  },
  {
   "cell_type": "code",
   "execution_count": 3,
   "outputs": [],
   "source": [
    "# News links (hardcoded) it works also with new links, but we didn't add to the MVP\n",
    "news_data = {\n",
    "    1: {\"title\": \"Novak Djokovic vs Jannik Sinner\",\n",
    "        \"url\": \"https://edition.cnn.com/2024/01/26/sport/jannik-sinner-novak-djokovic-australian-open-spt-intl/index.html\"},\n",
    "    2: {\"title\": \"Apple’s Vision Pro headset hits US stores today\",\n",
    "        \"url\": \"https://edition.cnn.com/2024/02/02/tech/apple-vision-pro-what-you-need-to-know/index.html\"},\n",
    "    3: {\"title\": \"Russia's war capacity endures for two-three years.\",\n",
    "        \"url\": \"https://edition.cnn.com/2024/02/14/europe/russia-sustain-war-effort-ukraine-analysis-intl/index.html\"}\n",
    "}\n",
    "\n",
    "summary_dicc = {\n",
    "    'Summary 1': '',\n",
    "    'Summary 2': '',\n",
    "    'Summary 3': ''\n",
    "}\n",
    "\n",
    "final_summary = ''\n",
    "\n",
    "final_script = ''\n",
    "\n",
    "transcripts = {\n",
    "    1: [\"\", \"\"],\n",
    "    2: [\"\", \"\"],\n",
    "    3: [\"\", \"\"]\n",
    "}\n",
    "\n",
    "scripts = {}\n",
    "\n",
    "css = \"\"\"\n",
    "h1 {\n",
    "    text-align: center;\n",
    "    display:block;\n",
    "}\n",
    "h2 {\n",
    "    text-align: center;\n",
    "    display:block;\n",
    "}\n",
    "h3 {\n",
    "    text-align: center;\n",
    "    display:block;\n",
    "}\n",
    "\"\"\""
   ],
   "metadata": {
    "collapsed": false,
    "ExecuteTime": {
     "end_time": "2024-02-17T17:56:42.883335900Z",
     "start_time": "2024-02-17T17:56:42.872305100Z"
    }
   },
   "id": "b09960c2fab7ab40"
  },
  {
   "cell_type": "markdown",
   "source": [
    "## Functions"
   ],
   "metadata": {
    "collapsed": false
   },
   "id": "d00d5fccedc73cea"
  },
  {
   "cell_type": "code",
   "execution_count": 4,
   "outputs": [],
   "source": [
    "# Get the link from news_data using the value of the button from gradio\n",
    "def get_news_url(news_index):\n",
    "    index = int(news_index.split(' ')[1])\n",
    "    return news_data[index]['url']\n",
    "\n",
    "# Extract the article using Newspaper 3k\n",
    "def create_article(url):\n",
    "        article = Article(url)\n",
    "        article.download()\n",
    "        article.parse()\n",
    "        return article\n",
    "\n",
    "# Generates 3 summaries using BERT, we change the temperature and other parameters to change the style of each summary\n",
    "def summary_generator(selected_news):\n",
    "    global summary_dicc\n",
    "    \n",
    "    article = create_article(selected_news)\n",
    "    ARTICLE_TO_SUMMARIZE = (\n",
    "    article.text\n",
    "    )\n",
    "    inputs = tokenizer([ARTICLE_TO_SUMMARIZE], max_length=1024, return_tensors='pt', truncation=True)\n",
    "    summaries_ = []\n",
    "    for i in range(3):\n",
    "        summary_ids = model.generate(inputs[\"input_ids\"], \n",
    "                                 num_beams=4 + i,  # fixed number of beams\n",
    "                                 temperature=1.0 + (0.3 * i),  # increasing temperature\n",
    "                                 top_k=50 + (20 * i),  # increasing top_k\n",
    "                                 min_length=100, \n",
    "                                 max_length=200, \n",
    "                                 do_sample=True,\n",
    "                                 early_stopping=True)\n",
    "\n",
    "        summary = tokenizer.batch_decode(summary_ids, skip_special_tokens=True, clean_up_tokenization_spaces=False)[0]\n",
    "        summaries_.append(summary)\n",
    "    \n",
    "    for i, key in enumerate(summary_dicc.keys()):\n",
    "        summary_dicc[key] = summaries_[i]\n",
    "        \n",
    "    return summaries_[0], summaries_[1], summaries_[2]\n",
    "\n",
    "# Selects the summary from the global variable\n",
    "def summary_selection(selected_summary):\n",
    "    global final_summary\n",
    "    final_summary = summary_dicc[selected_summary]\n",
    "    return final_summary\n",
    "\n",
    "# Selects the script from the global variable\n",
    "def script_selection(selected_script):\n",
    "    global final_script\n",
    "    index = int(selected_script.split(' ')[-1])\n",
    "    final_script = scripts[index]\n",
    "    return final_script\n",
    "\n",
    "# Counts the number of words of the transcript to use it in the prompt\n",
    "def word_counter(sample_text):\n",
    "    text_length = len(sample_text.split())\n",
    "    return text_length\n",
    "\n",
    "# Generates the transcription from the video using whisper and add it to the global variable\n",
    "def transcribe(number, file_path):\n",
    "    transcription = whisper_model.transcribe(file_path, fp16=True)\n",
    "    key = int(number.split(' ')[-1])\n",
    "    transcripts[key][0] = transcription['text']\n",
    "    transcripts[key][1] = word_counter(transcripts[key][0])\n",
    "    return transcription['text']\n",
    "\n",
    "# Final prompt to create the personalized scripts\n",
    "def generate_prompt_final():\n",
    "\n",
    "    # Including the news summary in the prompt\n",
    "    prompt_text = f\"\"\"\n",
    "    Objective\n",
    "    To analyze provided example transcripts for speaking patterns and stylistic features, generate new text on a given topic as if spoken by the person from the transcripts, and evaluate the generated text against the learned patterns and metrics, ensuring alignment with dynamic speech timing.\n",
    "    Step 1: Preparation\n",
    "    • Receive example transcripts of a person speaking on various topics.\n",
    "    • Given topics for new text generation.\n",
    "    Step 2: Analysis of Transcripts\n",
    "    • Identify and understand the unique speaking patterns, style, tone, and features of the speaker.\n",
    "    • Catalogue speaking patterns including specific phrases, vocabulary, idiomatic expressions, sentence structure, and tone. Here are the trancripts:\n",
    "    {transcripts}\n",
    "    Step 3: Calculation of Dynamic Target Word Count\n",
    "    • Calculate the Words Per Minute (WPM) for each transcript.\n",
    "    • Determine the average WPM across all provided examples.\n",
    "    • Based on the average WPM, calculate the target word count for the new text, aiming for a specific speech length (e.g., 22 seconds), making the \"Clear Target Word Count\" dynamic and adaptable.\n",
    "    • Ensure you do the math step by step to ensure accuracy.\n",
    "    Step 4: Metric-Based Learning\n",
    "    • Use detailed metrics (Lexical Diversity, Sentence Length, Tone Analysis, etc.) to quantitatively and qualitatively analyze the transcripts.\n",
    "    • Provide scores for each metric to quantify the speaking style.\n",
    "    Step 5: Text Generation\n",
    "    •\tGenerate three unique and dynamic new texts on the provided topic, ensuring each matches the identified speaking patterns, style, and metrics and fits within the dynamically calculated target word count for the specified speech length. Use clear markers to delineate each generated text for easy extraction. \n",
    "    •\tPlease mark each generated text with the following markers for easy extraction:\n",
    "    •\tFor the first text, use \"---Generated Text 1 Start---\" and \"---Generated Text 1 End---\".\n",
    "    •\tFor the second text, use \"---Generated Text 2 Start---\" and \"---Generated Text 2 End---\".\n",
    "    •\tFor the third text, use \"---Generated Text 3 Start---\" and \"---Generated Text 3 End---\".\n",
    "\n",
    "    \n",
    "    News Summary:\n",
    "    {final_summary}\n",
    "    \n",
    "    Please mark each generated text with clear separators for easy identification and extraction.\n",
    "    \"\"\"\n",
    "    return prompt_text\n",
    "\n",
    "# Calls the GPT API to generate the scripts using the prompt above\n",
    "def callAPI():\n",
    "    prompt = generate_prompt_final()\n",
    "    response = client.chat.completions.create(\n",
    "        model=\"gpt-4\",\n",
    "        messages=[{\"role\": \"user\", \"content\": prompt}],\n",
    "    )\n",
    "    result = extract_generated_texts(response.choices[0].message.content)\n",
    "    return result[1], result[2], result[3]\n",
    "\n",
    "# Extract each script from the final prompt\n",
    "def extract_generated_texts(input_text):\n",
    "    markers = [\n",
    "        (\"---Generated Text 1 Start---\", \"---Generated Text 1 End---\"),\n",
    "        (\"---Generated Text 2 Start---\", \"---Generated Text 2 End---\"),\n",
    "        (\"---Generated Text 3 Start---\", \"---Generated Text 3 End---\")\n",
    "    ]\n",
    "    \n",
    "    for i, (start_marker, end_marker) in enumerate(markers, start=1):\n",
    "        start_index = input_text.find(start_marker) + len(start_marker)\n",
    "        end_index = input_text.find(end_marker)\n",
    "        if start_index > len(start_marker) and end_index > -1:\n",
    "            extracted_text = input_text[start_index:end_index].strip()\n",
    "            scripts[i] = extracted_text\n",
    "    \n",
    "    return scripts"
   ],
   "metadata": {
    "collapsed": false,
    "ExecuteTime": {
     "end_time": "2024-02-17T17:56:45.650612500Z",
     "start_time": "2024-02-17T17:56:45.631559300Z"
    }
   },
   "id": "ae2f2eecaaede220"
  },
  {
   "cell_type": "markdown",
   "source": [
    "# Gradio Code"
   ],
   "metadata": {
    "collapsed": false
   },
   "id": "4bf13cc83562758e"
  },
  {
   "cell_type": "code",
   "execution_count": 5,
   "outputs": [],
   "source": [
    "with (gr.Blocks(css=css) as demo):\n",
    "    gr.Markdown('# WELCOME TO TRENDIFY')\n",
    "    with gr.Row():\n",
    "        with gr.Column(scale=2):\n",
    "            title1 = news_data[1]['title']\n",
    "            gr.Markdown(f'### {title1}')\n",
    "            gr.Image(value=\"pictures/sinner.jpg\", label=news_data[1]['title'])\n",
    "        with gr.Column(scale=2):\n",
    "            title2 = news_data[2]['title']\n",
    "            gr.Markdown(f'### {title2}')\n",
    "            gr.Image(value=\"pictures/apple_vision.jpg\", label=news_data[2]['title'])\n",
    "        with gr.Column(scale=2):\n",
    "            title3 = news_data[3]['title']\n",
    "            gr.Markdown(f'### {title3}')\n",
    "            gr.Image(value=\"pictures/war.jpg\", label=news_data[3]['title'])\n",
    "    \n",
    "    news = ['News 1', 'News 2', 'News 3']\n",
    "    news_radio = gr.Radio(news, label='Trendy News')\n",
    "    news_btn = gr.Button('Select News')\n",
    "    output_news = gr.Textbox(label='News Selected')\n",
    "    news_btn.click(fn=get_news_url, inputs=news_radio, outputs=output_news)\n",
    "    generate_summary_btn = gr.Button(\"Generate Summary\")\n",
    "    # radio_summary = gr.Radio(summary_options, label='Select Summary', interactive=True)\n",
    "    s1 = gr.Textbox(label='Summary 1', show_copy_button=True)\n",
    "    s2 = gr.Textbox(label='Summary 2', show_copy_button=True)\n",
    "    s3 = gr.Textbox(label='Summary 3', show_copy_button=True)\n",
    "    generate_summary_btn.click(fn=summary_generator, inputs=output_news, outputs=[s1, s2, s3])\n",
    "\n",
    "    # Select summary\n",
    "    summaries = ['Summary 1', 'Summary 2', 'Summary 3']\n",
    "    summary_radio = gr.Radio(summaries, label='Select a summary')\n",
    "    select_summary_btn = gr.Button('Select your Summary')\n",
    "    output_summary = gr.Textbox(label='Selected Summary', show_copy_button=True)\n",
    "    select_summary_btn.click(fn=summary_selection, inputs=summary_radio, outputs=output_summary)\n",
    "\n",
    "    # Upload video\n",
    "    # Second Section - Upload Video and Transcript\n",
    "    with gr.Group():\n",
    "        gr.Markdown(\"# Upload your Videos\")\n",
    "        gr.Markdown(\"### Upload 3 videos, so we can extract your style and help you generate new content!\")\n",
    "\n",
    "    with gr.Row():\n",
    "        with gr.Column(scale=2):\n",
    "            gr.Markdown('## Video 1')\n",
    "            video_upload_1 = gr.Video(label=\"Upload First Video\")\n",
    "            video_transcript_1 = gr.Textbox(label='Video 1 Transcript')\n",
    "            video_upload_btn_1 = gr.Button(\"Upload Video 1\", value=1)\n",
    "            video_upload_btn_1.click(fn=transcribe, inputs=[video_upload_btn_1, video_upload_1], outputs=video_transcript_1)\n",
    "        with gr.Column(scale=2):\n",
    "            gr.Markdown('## Video 2')\n",
    "            video_upload_2 = gr.Video(label=\"Upload Second Video\")\n",
    "            video_transcript_2 = gr.Textbox(label='Video 2 Transcript')\n",
    "            video_upload_btn_2 = gr.Button(\"Upload Video 2\")\n",
    "            video_upload_btn_2.click(fn=transcribe, inputs=[video_upload_btn_2, video_upload_2], outputs=video_transcript_2)\n",
    "        with gr.Column(scale=2):\n",
    "            gr.Markdown('## Video 3')\n",
    "            video_upload_3 = gr.Video(label=\"Upload Third Video\")\n",
    "            video_transcript_3 = gr.Textbox(label='Video 3 Transcript')\n",
    "            video_upload_btn_3 = gr.Button(\"Upload Video 3\")\n",
    "            video_upload_btn_3.click(fn=transcribe, inputs=[video_upload_btn_3, video_upload_3], outputs=video_transcript_3)\n",
    "            \n",
    "            \n",
    "    # Third Section - Generation and Selection of Script\n",
    "    with gr.Group():\n",
    "        gr.Markdown(\"# Script Generation\")\n",
    "        gr.Markdown(\"### Now we will generate some options of a script for your new video. Choose your favorite!\")\n",
    "    generate_script = gr.Button('Generate Scripts')\n",
    "    sc1 = gr.Textbox(label='Script 1')\n",
    "    sc2 = gr.Textbox(label='Script 2')\n",
    "    sc3 = gr.Textbox(label='Script 3')\n",
    "    generate_script.click(fn = callAPI, outputs=[sc1, sc2, sc3])\n",
    "    \n",
    "    scripts_list = ['Script 1', 'Script 2', 'Script 3']\n",
    "    script_radio = gr.Radio(scripts_list, label='Select a script')\n",
    "    select_script_btn = gr.Button('Select your Script')\n",
    "    output_script = gr.Textbox(label='Selected Script', show_copy_button=True)\n",
    "    select_script_btn.click(fn=script_selection, inputs=script_radio, outputs=output_script)"
   ],
   "metadata": {
    "collapsed": false,
    "ExecuteTime": {
     "end_time": "2024-02-17T17:56:49.524049300Z",
     "start_time": "2024-02-17T17:56:49.381341300Z"
    }
   },
   "id": "b17340113414ecae"
  },
  {
   "cell_type": "code",
   "execution_count": 6,
   "outputs": [
    {
     "name": "stdout",
     "output_type": "stream",
     "text": [
      "Running on local URL:  http://127.0.0.1:7860\n",
      "\n",
      "To create a public link, set `share=True` in `launch()`.\n"
     ]
    },
    {
     "data": {
      "text/plain": "<IPython.core.display.HTML object>",
      "text/html": "<div><iframe src=\"http://127.0.0.1:7860/\" width=\"100%\" height=\"500\" allow=\"autoplay; camera; microphone; clipboard-read; clipboard-write;\" frameborder=\"0\" allowfullscreen></iframe></div>"
     },
     "metadata": {},
     "output_type": "display_data"
    },
    {
     "data": {
      "text/plain": ""
     },
     "execution_count": 6,
     "metadata": {},
     "output_type": "execute_result"
    }
   ],
   "source": [
    "demo.launch(allowed_paths=['app/pictures'])"
   ],
   "metadata": {
    "collapsed": false,
    "ExecuteTime": {
     "end_time": "2024-02-17T17:56:52.699883200Z",
     "start_time": "2024-02-17T17:56:52.088807700Z"
    }
   },
   "id": "fb27803ae5776110"
  }
 ],
 "metadata": {
  "kernelspec": {
   "display_name": "Python 3",
   "language": "python",
   "name": "python3"
  },
  "language_info": {
   "codemirror_mode": {
    "name": "ipython",
    "version": 2
   },
   "file_extension": ".py",
   "mimetype": "text/x-python",
   "name": "python",
   "nbconvert_exporter": "python",
   "pygments_lexer": "ipython2",
   "version": "2.7.6"
  }
 },
 "nbformat": 4,
 "nbformat_minor": 5
}
