{
 "nbformat": 4,
 "nbformat_minor": 0,
 "metadata": {
  "colab": {
   "provenance": []
  },
  "kernelspec": {
   "name": "python3",
   "language": "python",
   "display_name": "Python 3 (ipykernel)"
  },
  "language_info": {
   "name": "python"
  }
 },
 "cells": [
  {
   "cell_type": "markdown",
   "source": [
    "# Gradio test 2\n",
    "\n",
    "This file contains the second approach with gradio"
   ],
   "metadata": {
    "collapsed": false
   }
  },
  {
   "cell_type": "code",
   "source": [
    "!pip install -U gradio\n",
    "!pip show werkzeug\n",
    "!pip install yt-dlp\n",
    "!pip install openai-whisper\n",
    "!pip install gradio\n",
    "!pip install twitter"
   ],
   "metadata": {
    "colab": {
     "base_uri": "https://localhost:8080/",
     "height": 1000
    },
    "id": "9BuspZXe5l_1",
    "outputId": "f49e1eac-c609-4ed8-fdb8-ca173a3a8095"
   },
   "execution_count": null,
   "outputs": []
  },
  {
   "cell_type": "code",
   "source": [
    "import gradio as gr\n",
    "import twitter\n",
    "import os\n",
    "import yt_dlp\n",
    "import whisper"
   ],
   "metadata": {
    "id": "sX4dewnNA1qE",
    "ExecuteTime": {
     "end_time": "2024-02-16T12:12:28.975775400Z",
     "start_time": "2024-02-16T12:12:20.806245700Z"
    }
   },
   "execution_count": 1,
   "outputs": []
  },
  {
   "cell_type": "code",
   "source": [
    "#First Section - Summary Selection\n",
    "\n",
    "news = ['News 1', 'News 2', 'News 3']\n",
    "\n",
    "final_news =\"\"\n",
    "\n",
    "def select_news(selected_news):\n",
    "    global final_news\n",
    "    final_news = selected_news\n",
    "    return 'https://edition.cnn.com/2024/01/26/sport/jannik-sinner-novak-djokovic-australian-open-spt-intl/index.html'\n",
    "\n",
    "global summary_options\n",
    "summary_options = []\n",
    "\n",
    "def summary_generator(selected_news):\n",
    "    \n",
    "    summary_options =[\n",
    "        'Jannik Sinner will now contest the first grand slam final of his career. Djokovic won the title in 2008 and will face Russian Daniil Medvedev in Sunday’s showpiece. “It was a very, very tough match,” Sner said in his on-court interview.“I was, in a way, shocked with my level,In a bad way. There was not much I was doing right in theFirst two sets.',\n",
    "        'Jannik Sinner will now contest the first grand slam final of his career. Djokovic won the title in 2008 and will face Russian Daniil Medvedev in Sunday’s showpiece. “It was a very, very tough match,” Sinner said in his on-court interview. ‘Nole’ later gave a very frank assessment of his performance against Sinner, which was also his first semifinal defeat at the Australian Open.“I guess this is one of the worst grand slam matches I’ve ever played – at least that I remember.”',\n",
    "        'Jannik Sinner will now contest the first grand slam final of his career. Djokovic won the title in 2008 and will face Russian Daniil Medvedev in Sunday’s showpiece. “It was a very, very tough match,” Sinner said in his on-court interview. “Look, I was, in a way, shocked with my level, in a bad way. There was not much I was doing right in the first two sets.”']\n",
    "    return summary_options\n",
    "\n",
    "final_summary = \"\"\n",
    "\n",
    "def summary_selection(selected_summary):\n",
    "    global final_summary\n",
    "    final_summary = selected_summary\n",
    "    return selected_summary\n",
    "\n",
    "#Second Section - Upload Video and Transcript\n",
    "def transcribe(file_path: str) -> str:\n",
    "    whisper_model = whisper.load_model(\"base.en\")\n",
    "\n",
    "    try:\n",
    "        transcription = whisper_model.transcribe(file_path, fp16=False)\n",
    "        return transcription['text']\n",
    "    except Exception as e:\n",
    "        return f\"Transcription failed: {str(e)}\"\n",
    "\n",
    "# Function to transcribe a video file\n",
    "def transcribe_video(video_file_path):\n",
    "    try:\n",
    "        transcript = transcribe(video_file_path)\n",
    "        return transcript\n",
    "    except Exception as e:\n",
    "        return f\"Transcription failed: {str(e)}\"\n",
    "\n",
    "\n",
    "#Third Section - Script Generation and Selection\n",
    "\n",
    "script_options = []\n",
    "\n",
    "def script_generator(final_summary):\n",
    "    global script_options\n",
    "    script_options = [\n",
    "      \"Novak Djokovic beaten by Jannik Sinner in Australian Open semifinal. Djakovic loses for first time at Melbourne Park in 2,195 days. Italian will now face either Daniil Medvedev or Alexander Zverev in Sunday's final. The 22-year-old is the youngest male finalist at the tournament since 2008. He has now beaten the Serb in three of their last four matches dating back to November. It is his first grand slam final of his career.\",\n",
    "      \"Novak Djokovic beaten by Jannik Sinner in Australian Open semifinal. Sinner, 22, is the youngest male finalist at Australian Open since 2008. He will face either Daniil Medvedev or Alexander Zverev in Sunday's showpiece. Djkovic's bid for an outright record 25th grand slam title is put on hold after he was outplayed by the Italian across their three hour, 22-minute contest. The Serb was broken at 2-1 in the fourth set having held a 40-0 lead.\",\n",
    "      \"Novak Djokovic beaten by Jannik Sinner 6-1 6-2 6-7(6-8) 6-3 in Australian Open semifinal. The 22-year-old Italian will now contest the first grand slam final of his career. Sinner is the youngest male finalist at the Australian Open since Djokovic won the title in 2008. He will face either Daniil Medvedev or Alexander Zverev in Sunday’s showpiece.\"]\n",
    "    return script_options\n",
    "\n",
    "\n",
    "final_script = \"\"\n",
    "\n",
    "def script_selection(selected_script):\n",
    "    global final_script\n",
    "    final_script = selected_script\n",
    "    return selected_script\n"
   ],
   "metadata": {
    "id": "YcDDtiSy854f",
    "ExecuteTime": {
     "end_time": "2024-02-16T12:12:59.218328100Z",
     "start_time": "2024-02-16T12:12:59.212812700Z"
    }
   },
   "execution_count": 2,
   "outputs": []
  },
  {
   "cell_type": "code",
   "source": [
    "with gr.Blocks() as demo:\n",
    "  # First Section - Twitter News and Summary\n",
    "  with gr.Group():\n",
    "    gr.Markdown(\"# Trendy News Dashboard\")\n",
    "\n",
    "  news_radio = gr.Radio(news, label = 'Trendy News')\n",
    "  news_btn = gr.Button('Select News')\n",
    "  output_news = gr.Textbox(label='News Selected')\n",
    "  news_btn.click(fn= select_news, inputs = [], outputs = output_news)\n",
    "\n",
    "  generate_summary_btn = gr.Button(\"Generate Summary\")\n",
    "  generate_summary_btn.click(fn= summary_generator, inputs = [] , outputs = gr.Radio(summary_options, label = 'Select Summary', interactive = True))\n",
    "\n",
    "  select_summary_btn = gr.Button('Select your Summary')\n",
    "  select_summary_btn.click(fn= summary_selection, inputs= generate_summary_btn, outputs= gr.Textbox(label= 'Selected Summary'))\n",
    "\n",
    "\n",
    "  # Second Section - Upload Video and Transcript\n",
    "  with gr.Group():\n",
    "    gr.Markdown(\"# Upload your Video\")\n",
    "    gr.Markdown(\"### Upload your video so we can extract your style and help you generate new content!\")\n",
    "\n",
    "  with gr.Row():\n",
    "    video_upload = gr.Video(label=\"Upload a Video\")\n",
    "    video_transcript = gr.Textbox(label ='Video Transcript')\n",
    "\n",
    "  video_upload_btn = gr.Button (\"Upload your Video\")\n",
    "  video_upload_btn.click(fn=transcribe_video, inputs=video_upload, outputs= video_transcript)\n",
    "\n",
    "  # Third Section - Generation and Selection of Script\n",
    "  with gr.Group():\n",
    "    gr.Markdown(\"# Scirpt Generation\")\n",
    "    gr.Markdown(\"### Now we will generate some options of a script for your new video. Choose your favorite!\")\n",
    "\n",
    "  generate_script_btn = gr.Button('Generate Scripts')\n",
    "  generate_script_btn.click(fn= script_generator, inputs = [] , outputs = gr.Radio(script_options, label = 'Select your Script', interactive = True))\n",
    "\n",
    "\n",
    "  select_script_btn = gr.Button('Select your Script')\n",
    "  select_script_btn.click(fn= script_selection, inputs= generate_script_btn, outputs= gr.Textbox(label= 'Final Script'))\n",
    "\n",
    "demo.launch()"
   ],
   "metadata": {
    "colab": {
     "base_uri": "https://localhost:8080/",
     "height": 834
    },
    "id": "Zjq0hmBSyyci",
    "outputId": "9c80ae7b-4bbb-477d-81a8-86e15c2601d0",
    "ExecuteTime": {
     "end_time": "2024-02-16T12:14:06.197097500Z",
     "start_time": "2024-02-16T12:14:05.288409500Z"
    }
   },
   "execution_count": 4,
   "outputs": [
    {
     "name": "stderr",
     "output_type": "stream",
     "text": [
      "C:\\Users\\jorge\\miniconda3\\envs\\NLP_group_assignment\\lib\\site-packages\\gradio\\utils.py:854: UserWarning: Expected 1 arguments for function <function select_news at 0x0000017A54D23D00>, received 0.\n",
      "  warnings.warn(\n",
      "C:\\Users\\jorge\\miniconda3\\envs\\NLP_group_assignment\\lib\\site-packages\\gradio\\utils.py:858: UserWarning: Expected at least 1 arguments for function <function select_news at 0x0000017A54D23D00>, received 0.\n",
      "  warnings.warn(\n",
      "C:\\Users\\jorge\\miniconda3\\envs\\NLP_group_assignment\\lib\\site-packages\\gradio\\utils.py:854: UserWarning: Expected 1 arguments for function <function summary_generator at 0x0000017A6820F2E0>, received 0.\n",
      "  warnings.warn(\n",
      "C:\\Users\\jorge\\miniconda3\\envs\\NLP_group_assignment\\lib\\site-packages\\gradio\\utils.py:858: UserWarning: Expected at least 1 arguments for function <function summary_generator at 0x0000017A6820F2E0>, received 0.\n",
      "  warnings.warn(\n",
      "C:\\Users\\jorge\\miniconda3\\envs\\NLP_group_assignment\\lib\\site-packages\\gradio\\utils.py:854: UserWarning: Expected 1 arguments for function <function script_generator at 0x0000017A6820F5B0>, received 0.\n",
      "  warnings.warn(\n",
      "C:\\Users\\jorge\\miniconda3\\envs\\NLP_group_assignment\\lib\\site-packages\\gradio\\utils.py:858: UserWarning: Expected at least 1 arguments for function <function script_generator at 0x0000017A6820F5B0>, received 0.\n",
      "  warnings.warn(\n"
     ]
    },
    {
     "name": "stdout",
     "output_type": "stream",
     "text": [
      "Running on local URL:  http://127.0.0.1:7861\n",
      "\n",
      "To create a public link, set `share=True` in `launch()`.\n"
     ]
    },
    {
     "data": {
      "text/plain": "<IPython.core.display.HTML object>",
      "text/html": "<div><iframe src=\"http://127.0.0.1:7861/\" width=\"100%\" height=\"500\" allow=\"autoplay; camera; microphone; clipboard-read; clipboard-write;\" frameborder=\"0\" allowfullscreen></iframe></div>"
     },
     "metadata": {},
     "output_type": "display_data"
    },
    {
     "data": {
      "text/plain": ""
     },
     "execution_count": 4,
     "metadata": {},
     "output_type": "execute_result"
    }
   ]
  }
 ]
}
