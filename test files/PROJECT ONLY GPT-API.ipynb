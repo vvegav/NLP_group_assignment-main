{
 "cells": [
  {
   "cell_type": "markdown",
   "metadata": {
    "colab_type": "text",
    "id": "view-in-github"
   },
   "source": [
    "# PROJECT ONLY WITH GPT-API\n",
    "\n",
    "This file contains the first approach we did using only the OPENAI API."
   ]
  },
  {
   "cell_type": "code",
   "execution_count": null,
   "metadata": {
    "id": "socn-zs1OkN2"
   },
   "outputs": [],
   "source": [
    "from newspaper import Article"
   ]
  },
  {
   "cell_type": "code",
   "execution_count": null,
   "metadata": {
    "id": "SpQexBFmKqcM"
   },
   "outputs": [],
   "source": [
    "cnn_microsoft = 'https://edition.cnn.com/2024/01/12/business/apple-microsoft-most-valuable-publicly-traded-company/index.html'\n",
    "fox = 'http://fox13now.com/2013/12/30/new-year-new-laws-obamacare-pot-guns-and-drones/'"
   ]
  },
  {
   "cell_type": "code",
   "execution_count": null,
   "metadata": {
    "id": "Bf0KJXTRO9CT"
   },
   "outputs": [],
   "source": [
    "url = cnn_microsoft\n",
    "article = Article(url)"
   ]
  },
  {
   "cell_type": "code",
   "execution_count": null,
   "metadata": {
    "id": "MhOdvhp-PQhZ"
   },
   "outputs": [],
   "source": [
    "article.download()"
   ]
  },
  {
   "cell_type": "code",
   "execution_count": null,
   "metadata": {
    "id": "trNaBFIXPYWL"
   },
   "outputs": [],
   "source": [
    "article.parse()"
   ]
  },
  {
   "cell_type": "code",
   "execution_count": null,
   "metadata": {
    "colab": {
     "base_uri": "https://localhost:8080/",
     "height": 214
    },
    "id": "9RwWslLwPajm",
    "outputId": "5fc832c6-bdf2-478b-d135-10f1edf6dec8"
   },
   "outputs": [
    {
     "data": {
      "application/vnd.google.colaboratory.intrinsic+json": {
       "type": "string"
      },
      "text/plain": [
       "'New York CNN —\\n\\nMicrosoft is back on top.\\n\\nAfter trailing behind Apple for the majority of the past decade, Microsoft is the world’s most valuable publicly traded company as of market close on Friday.\\n\\nThe tech giant’s stock (MSFT) closed at $388.47 a share on Friday, giving it a market capitalization of $2.89 trillion. Apple’s stock (AAPL) closed at $185.92 a share, for a market capitalization of $2.87 trillion.\\n\\nMarket capitalization — or market cap — is the total value of all the shares of a publicly traded company. In other words, it’s the market value of the company.\\n\\nMicrosoft’s rise to the top comes after the company had a stellar year thanks to its success with generative artificial intelligence.\\n\\nIn 2023, the company’s CEO, Satya Nadella, made a multi-billion dollar investment in AI, including commercializing and adding AI tools like ChatGPT into its suite of products before rivals.\\n\\nHe even strengthened Microsoft’s ties to ChatGPT maker OpenAI, a major pioneer in the field of artificial intelligence, during a board and leadership upheaval at the smaller company late last year.\\n\\nApple, meanwhile, is facing a barrage of problems. iPhone sales are slowing in part because of the Chinese government’s reported efforts to restrict purchases (Beijing denies it has put any restrictions in place). That’s helped Chinese smartphone maker Huawei to gain market share.\\n\\nApple also recently contended with a brief ban from selling the latest Apple Watch models in the United States.\\n\\nMicrosoft declined to comment, while Apple did not return CNN’s request for a comment.'"
      ]
     },
     "execution_count": 7,
     "metadata": {},
     "output_type": "execute_result"
    }
   ],
   "source": [
    "article.text"
   ]
  },
  {
   "cell_type": "code",
   "execution_count": null,
   "metadata": {
    "colab": {
     "base_uri": "https://localhost:8080/"
    },
    "id": "xNWuMeJBLJ4-",
    "outputId": "377b603f-fde4-4be6-db40-336b2d7e291c"
   },
   "outputs": [
    {
     "name": "stdout",
     "output_type": "stream",
     "text": [
      "Mounted at /content/drive\n"
     ]
    }
   ],
   "source": [
    "from google.colab import drive\n",
    "drive.mount('/content/drive')"
   ]
  },
  {
   "cell_type": "code",
   "execution_count": null,
   "metadata": {
    "id": "fVNVMZyZLf04"
   },
   "outputs": [],
   "source": [
    "# Define the paths to your files\n",
    "api_key_path = '/content/drive/MyDrive/BOOTCAMP/AI_Workshop_1_2024_orig/api_key.txt'\n",
    "api_org_path = '/content/drive/MyDrive/BOOTCAMP/AI_Workshop_1_2024_orig/api_org.txt'\n",
    "\n",
    "# Read the API key\n",
    "with open(api_key_path, 'r') as file:\n",
    "    api_key = file.read().strip()\n",
    "\n",
    "# Read the API organization key\n",
    "with open(api_org_path, 'r') as file:\n",
    "    api_key2 = file.read().strip()"
   ]
  },
  {
   "cell_type": "code",
   "execution_count": null,
   "metadata": {
    "id": "vCXitoTkLieG"
   },
   "outputs": [],
   "source": [
    "# We will create a client object using the OpenAI api to make requests\n",
    "# For this we need to use the keys so that is is authenticated and charges can be made\n",
    "# This is the more recent APY - for 'OpenAI', not 'openai'\n",
    "\n",
    "import os\n",
    "from openai import OpenAI\n",
    "myclient = OpenAI(api_key = api_key, organization=api_key2)"
   ]
  },
  {
   "cell_type": "code",
   "execution_count": null,
   "metadata": {
    "colab": {
     "base_uri": "https://localhost:8080/",
     "height": 488
    },
    "id": "xjZMroxALuKS",
    "outputId": "257f5389-5ee3-4ca4-97ba-20f9a81daaf7"
   },
   "outputs": [
    {
     "ename": "AuthenticationError",
     "evalue": "Error code: 401 - {'error': {'message': 'Incorrect API key provided: sk-GOZJD***************************************ADMM. You can find your API key at https://platform.openai.com/account/api-keys.', 'type': 'invalid_request_error', 'param': None, 'code': 'invalid_api_key'}}",
     "output_type": "error",
     "traceback": [
      "\u001B[0;31m---------------------------------------------------------------------------\u001B[0m",
      "\u001B[0;31mAuthenticationError\u001B[0m                       Traceback (most recent call last)",
      "\u001B[0;32m<ipython-input-11-7ef970cf06ff>\u001B[0m in \u001B[0;36m<cell line: 1>\u001B[0;34m()\u001B[0m\n\u001B[0;32m----> 1\u001B[0;31m response = myclient.chat.completions.create(\n\u001B[0m\u001B[1;32m      2\u001B[0m   \u001B[0mmodel\u001B[0m\u001B[0;34m=\u001B[0m\u001B[0;34m\"gpt-3.5-turbo\"\u001B[0m\u001B[0;34m,\u001B[0m\u001B[0;34m\u001B[0m\u001B[0;34m\u001B[0m\u001B[0m\n\u001B[1;32m      3\u001B[0m   messages=[\n\u001B[1;32m      4\u001B[0m     {\"role\": \"system\", \"content\": \"You are a summary tool and you need to create a detail summary between 50 to 100 words. \"\\\n\u001B[1;32m      5\u001B[0m     \u001B[0;34m\"You have to give 3 different summaries with exactly this format:\"\u001B[0m\u001B[0;31m\\\u001B[0m\u001B[0;34m\u001B[0m\u001B[0;34m\u001B[0m\u001B[0m\n",
      "\u001B[0;32m/usr/local/lib/python3.10/dist-packages/openai/_utils/_utils.py\u001B[0m in \u001B[0;36mwrapper\u001B[0;34m(*args, **kwargs)\u001B[0m\n\u001B[1;32m    269\u001B[0m                         \u001B[0mmsg\u001B[0m \u001B[0;34m=\u001B[0m \u001B[0;34mf\"Missing required argument: {quote(missing[0])}\"\u001B[0m\u001B[0;34m\u001B[0m\u001B[0;34m\u001B[0m\u001B[0m\n\u001B[1;32m    270\u001B[0m                 \u001B[0;32mraise\u001B[0m \u001B[0mTypeError\u001B[0m\u001B[0;34m(\u001B[0m\u001B[0mmsg\u001B[0m\u001B[0;34m)\u001B[0m\u001B[0;34m\u001B[0m\u001B[0;34m\u001B[0m\u001B[0m\n\u001B[0;32m--> 271\u001B[0;31m             \u001B[0;32mreturn\u001B[0m \u001B[0mfunc\u001B[0m\u001B[0;34m(\u001B[0m\u001B[0;34m*\u001B[0m\u001B[0margs\u001B[0m\u001B[0;34m,\u001B[0m \u001B[0;34m**\u001B[0m\u001B[0mkwargs\u001B[0m\u001B[0;34m)\u001B[0m\u001B[0;34m\u001B[0m\u001B[0;34m\u001B[0m\u001B[0m\n\u001B[0m\u001B[1;32m    272\u001B[0m \u001B[0;34m\u001B[0m\u001B[0m\n\u001B[1;32m    273\u001B[0m         \u001B[0;32mreturn\u001B[0m \u001B[0mwrapper\u001B[0m  \u001B[0;31m# type: ignore\u001B[0m\u001B[0;34m\u001B[0m\u001B[0;34m\u001B[0m\u001B[0m\n",
      "\u001B[0;32m/usr/local/lib/python3.10/dist-packages/openai/resources/chat/completions.py\u001B[0m in \u001B[0;36mcreate\u001B[0;34m(self, messages, model, frequency_penalty, function_call, functions, logit_bias, logprobs, max_tokens, n, presence_penalty, response_format, seed, stop, stream, temperature, tool_choice, tools, top_logprobs, top_p, user, extra_headers, extra_query, extra_body, timeout)\u001B[0m\n\u001B[1;32m    641\u001B[0m         \u001B[0mtimeout\u001B[0m\u001B[0;34m:\u001B[0m \u001B[0mfloat\u001B[0m \u001B[0;34m|\u001B[0m \u001B[0mhttpx\u001B[0m\u001B[0;34m.\u001B[0m\u001B[0mTimeout\u001B[0m \u001B[0;34m|\u001B[0m \u001B[0;32mNone\u001B[0m \u001B[0;34m|\u001B[0m \u001B[0mNotGiven\u001B[0m \u001B[0;34m=\u001B[0m \u001B[0mNOT_GIVEN\u001B[0m\u001B[0;34m,\u001B[0m\u001B[0;34m\u001B[0m\u001B[0;34m\u001B[0m\u001B[0m\n\u001B[1;32m    642\u001B[0m     ) -> ChatCompletion | Stream[ChatCompletionChunk]:\n\u001B[0;32m--> 643\u001B[0;31m         return self._post(\n\u001B[0m\u001B[1;32m    644\u001B[0m             \u001B[0;34m\"/chat/completions\"\u001B[0m\u001B[0;34m,\u001B[0m\u001B[0;34m\u001B[0m\u001B[0;34m\u001B[0m\u001B[0m\n\u001B[1;32m    645\u001B[0m             body=maybe_transform(\n",
      "\u001B[0;32m/usr/local/lib/python3.10/dist-packages/openai/_base_client.py\u001B[0m in \u001B[0;36mpost\u001B[0;34m(self, path, cast_to, body, options, files, stream, stream_cls)\u001B[0m\n\u001B[1;32m   1110\u001B[0m             \u001B[0mmethod\u001B[0m\u001B[0;34m=\u001B[0m\u001B[0;34m\"post\"\u001B[0m\u001B[0;34m,\u001B[0m \u001B[0murl\u001B[0m\u001B[0;34m=\u001B[0m\u001B[0mpath\u001B[0m\u001B[0;34m,\u001B[0m \u001B[0mjson_data\u001B[0m\u001B[0;34m=\u001B[0m\u001B[0mbody\u001B[0m\u001B[0;34m,\u001B[0m \u001B[0mfiles\u001B[0m\u001B[0;34m=\u001B[0m\u001B[0mto_httpx_files\u001B[0m\u001B[0;34m(\u001B[0m\u001B[0mfiles\u001B[0m\u001B[0;34m)\u001B[0m\u001B[0;34m,\u001B[0m \u001B[0;34m**\u001B[0m\u001B[0moptions\u001B[0m\u001B[0;34m\u001B[0m\u001B[0;34m\u001B[0m\u001B[0m\n\u001B[1;32m   1111\u001B[0m         )\n\u001B[0;32m-> 1112\u001B[0;31m         \u001B[0;32mreturn\u001B[0m \u001B[0mcast\u001B[0m\u001B[0;34m(\u001B[0m\u001B[0mResponseT\u001B[0m\u001B[0;34m,\u001B[0m \u001B[0mself\u001B[0m\u001B[0;34m.\u001B[0m\u001B[0mrequest\u001B[0m\u001B[0;34m(\u001B[0m\u001B[0mcast_to\u001B[0m\u001B[0;34m,\u001B[0m \u001B[0mopts\u001B[0m\u001B[0;34m,\u001B[0m \u001B[0mstream\u001B[0m\u001B[0;34m=\u001B[0m\u001B[0mstream\u001B[0m\u001B[0;34m,\u001B[0m \u001B[0mstream_cls\u001B[0m\u001B[0;34m=\u001B[0m\u001B[0mstream_cls\u001B[0m\u001B[0;34m)\u001B[0m\u001B[0;34m)\u001B[0m\u001B[0;34m\u001B[0m\u001B[0;34m\u001B[0m\u001B[0m\n\u001B[0m\u001B[1;32m   1113\u001B[0m \u001B[0;34m\u001B[0m\u001B[0m\n\u001B[1;32m   1114\u001B[0m     def patch(\n",
      "\u001B[0;32m/usr/local/lib/python3.10/dist-packages/openai/_base_client.py\u001B[0m in \u001B[0;36mrequest\u001B[0;34m(self, cast_to, options, remaining_retries, stream, stream_cls)\u001B[0m\n\u001B[1;32m    857\u001B[0m         \u001B[0mstream_cls\u001B[0m\u001B[0;34m:\u001B[0m \u001B[0mtype\u001B[0m\u001B[0;34m[\u001B[0m\u001B[0m_StreamT\u001B[0m\u001B[0;34m]\u001B[0m \u001B[0;34m|\u001B[0m \u001B[0;32mNone\u001B[0m \u001B[0;34m=\u001B[0m \u001B[0;32mNone\u001B[0m\u001B[0;34m,\u001B[0m\u001B[0;34m\u001B[0m\u001B[0;34m\u001B[0m\u001B[0m\n\u001B[1;32m    858\u001B[0m     ) -> ResponseT | _StreamT:\n\u001B[0;32m--> 859\u001B[0;31m         return self._request(\n\u001B[0m\u001B[1;32m    860\u001B[0m             \u001B[0mcast_to\u001B[0m\u001B[0;34m=\u001B[0m\u001B[0mcast_to\u001B[0m\u001B[0;34m,\u001B[0m\u001B[0;34m\u001B[0m\u001B[0;34m\u001B[0m\u001B[0m\n\u001B[1;32m    861\u001B[0m             \u001B[0moptions\u001B[0m\u001B[0;34m=\u001B[0m\u001B[0moptions\u001B[0m\u001B[0;34m,\u001B[0m\u001B[0;34m\u001B[0m\u001B[0;34m\u001B[0m\u001B[0m\n",
      "\u001B[0;32m/usr/local/lib/python3.10/dist-packages/openai/_base_client.py\u001B[0m in \u001B[0;36m_request\u001B[0;34m(self, cast_to, options, remaining_retries, stream, stream_cls)\u001B[0m\n\u001B[1;32m    947\u001B[0m \u001B[0;34m\u001B[0m\u001B[0m\n\u001B[1;32m    948\u001B[0m             \u001B[0mlog\u001B[0m\u001B[0;34m.\u001B[0m\u001B[0mdebug\u001B[0m\u001B[0;34m(\u001B[0m\u001B[0;34m\"Re-raising status error\"\u001B[0m\u001B[0;34m)\u001B[0m\u001B[0;34m\u001B[0m\u001B[0;34m\u001B[0m\u001B[0m\n\u001B[0;32m--> 949\u001B[0;31m             \u001B[0;32mraise\u001B[0m \u001B[0mself\u001B[0m\u001B[0;34m.\u001B[0m\u001B[0m_make_status_error_from_response\u001B[0m\u001B[0;34m(\u001B[0m\u001B[0merr\u001B[0m\u001B[0;34m.\u001B[0m\u001B[0mresponse\u001B[0m\u001B[0;34m)\u001B[0m \u001B[0;32mfrom\u001B[0m \u001B[0;32mNone\u001B[0m\u001B[0;34m\u001B[0m\u001B[0;34m\u001B[0m\u001B[0m\n\u001B[0m\u001B[1;32m    950\u001B[0m \u001B[0;34m\u001B[0m\u001B[0m\n\u001B[1;32m    951\u001B[0m         return self._process_response(\n",
      "\u001B[0;31mAuthenticationError\u001B[0m: Error code: 401 - {'error': {'message': 'Incorrect API key provided: sk-GOZJD***************************************ADMM. You can find your API key at https://platform.openai.com/account/api-keys.', 'type': 'invalid_request_error', 'param': None, 'code': 'invalid_api_key'}}"
     ]
    }
   ],
   "source": [
    "response = myclient.chat.completions.create(\n",
    "  model=\"gpt-3.5-turbo\",\n",
    "  messages=[\n",
    "    {\"role\": \"system\", \"content\": \"You are a summary tool and you need to create a detail summary between 50 to 100 words. \"\\\n",
    "    \"You have to give 3 different summaries with exactly this format:\"\\\n",
    "     \"summary_1, summary_2:, summary_3: \"},\n",
    "    {\"role\": \"user\", \"content\": f\"Create a summary of this text{article.text}\"}\n",
    "  ]\n",
    ")\n",
    "print(response.choices[0].message.content)"
   ]
  },
  {
   "cell_type": "code",
   "execution_count": null,
   "metadata": {
    "id": "wnvzLgLCQuB5"
   },
   "outputs": [],
   "source": [
    "summaries_raw = response.choices[0].message.content"
   ]
  },
  {
   "cell_type": "code",
   "execution_count": null,
   "metadata": {
    "id": "ylMqs94vQrux"
   },
   "outputs": [],
   "source": [
    "import re\n",
    "\n",
    "def generate_summary_dict(text):\n",
    "    \"\"\"\n",
    "    Generates a dictionary of summaries from a given text.\n",
    "\n",
    "    Parameters:\n",
    "    text (str): A string containing summaries, each starting with 'summary_'.\n",
    "\n",
    "    Returns:\n",
    "    dict: A dictionary with each summary under a unique key.\n",
    "    \"\"\"\n",
    "    # Splitting the text into separate summaries using 'summary_' as a delimiter\n",
    "    split_summaries = re.split(r'summary_\\d+: ', text)[1:]\n",
    "\n",
    "    # Initializing an empty dictionary\n",
    "    summaries = {}\n",
    "\n",
    "    # Assigning summaries to the dictionary\n",
    "    for i, summary in enumerate(split_summaries):\n",
    "        key = f'summary_{i+1}'\n",
    "        summaries[key] = summary.strip()  # Remove leading/trailing whitespace\n",
    "\n",
    "    return summaries"
   ]
  },
  {
   "cell_type": "code",
   "execution_count": null,
   "metadata": {
    "colab": {
     "base_uri": "https://localhost:8080/"
    },
    "id": "3J7c3ddDQ0wG",
    "outputId": "95f07f0b-10c9-4318-a877-94a43882ee0f"
   },
   "outputs": [
    {
     "name": "stdout",
     "output_type": "stream",
     "text": [
      "Microsoft has surpassed Apple to become the world's most valuable publicly traded company. With a market capitalization of $2.89 trillion, Microsoft's success is attributed to its investments in generative artificial intelligence, including the integration of AI tools like ChatGPT into its suite of products.\n",
      "Microsoft's CEO, Satya Nadella, made a significant multi-billion dollar investment in artificial intelligence in 2023, positioning the company for success. This enabled Microsoft to strengthen its ties with OpenAI, a leading AI pioneer. On the other hand, Apple is facing challenges, such as slowing iPhone sales and restrictions from the Chinese government.\n",
      "Microsoft's stock price closed at $388.47 a share, giving it a market capitalization of $2.89 trillion, surpassing Apple as the world's most valuable publicly traded company. The company's success can be attributed to its investments in artificial intelligence, particularly in integrating AI tools like ChatGPT into its suite of products. In contrast, Apple is facing difficulties with slowing iPhone sales and restrictions imposed by the Chinese government.\n"
     ]
    }
   ],
   "source": [
    "summaries_dict = generate_summary_dict(summaries_raw)\n",
    "print(summaries_dict['summary_1'])\n",
    "print(summaries_dict['summary_2'])\n",
    "print(summaries_dict['summary_3'])"
   ]
  },
  {
   "cell_type": "code",
   "execution_count": null,
   "metadata": {
    "id": "ZE0VElnDKXMG"
   },
   "outputs": [],
   "source": [
    "torriwebster = '/content/drive/MyDrive/BOOTCAMP/video/Download.mp4'\n",
    "tiffintech = \"/content/drive/MyDrive/BOOTCAMP/audio/tiffintech.mp3\""
   ]
  },
  {
   "cell_type": "code",
   "execution_count": null,
   "metadata": {
    "colab": {
     "base_uri": "https://localhost:8080/"
    },
    "id": "kOaVfPiKQ8ty",
    "outputId": "244fc7cc-9c86-4893-fb7a-0de9e555a7ae"
   },
   "outputs": [
    {
     "name": "stdout",
     "output_type": "stream",
     "text": [
      "The pink Apple Watch Series 9 is officially here, so let's unbox it together. I've been waiting to get my hands on the pink Apple Watch for what feels like forever. Plus, we can compare the new model to the Apple Watch Series 8. The pink is subtle, but it is beautiful. Plus, we've got our hands on the upgraded charger, as well as this new carbon-neutral band that I'm obsessed with. Let's unbox this sport loop style. Really chic. Alright, let's hook this together. Okay, let's upgrade. We're gonna remove the Series 8 for a little bit of variety, and so I can match different outfits. I also got this Nike sport band. Let me know if, in the next video, you want me to compare the Apple Watch Series 8 with the Apple Watch Series 9. We've gotta chat about all of the upgrades.\n"
     ]
    }
   ],
   "source": [
    "# speech to text\n",
    "# this will take that voice file and turn it back to text\n",
    "\n",
    "\n",
    "audio_file = open(torriwebster, \"rb\")\n",
    "transcript = myclient.audio.transcriptions.create(\n",
    "  model=\"whisper-1\",\n",
    "  file=audio_file\n",
    ")\n",
    "print(transcript.text)"
   ]
  },
  {
   "cell_type": "code",
   "execution_count": null,
   "metadata": {
    "id": "BanFQOXvkeg1"
   },
   "outputs": [],
   "source": [
    "def generate_script(transcript_text, article_text, video_seconds):\n",
    "    prompt = f\"Generate 3 scripts based on the following inputs: \\n\\n\" \\\n",
    "             f\"Transcript Text: {transcript_text}\\n\" \\\n",
    "             f\"Article Summary: {article_text}\\n\" \\\n",
    "             f\"Video Duration: {video_seconds} seconds\\n\\n\" \\\n",
    "             \"The scripts should follow these guidelines: \" \\\n",
    "             \"1. Style Replication: Use language, sentence structure, and unique features from the transcript text. \" \\\n",
    "             \"2. Tone Emulation: Reflect the emotional tone of the transcript. \" \\\n",
    "             \"3. Creative Expansion: Add new ideas and narratives that align with the themes of the article summary. \" \\\n",
    "             \"4. Time Consideration: The content should be appropriate for the specified video duration. \" \\\n",
    "             \"5. Personality Reflection: Reflect the speaker's personality traits.\\n\\n\" \\\n",
    "             \"The format must be: * script_1:, * script_2:, * script_3\"\\\n",
    "             \"That's an example of how the format should be. Please include * just before script. It is mandatory and essential to have this exact format so I can work on it later.\" \\\n",
    "             \"* script_1: \"\\\n",
    "             \"* script_2: \" \\\n",
    "             \"* script_3: \"\n",
    "\n",
    "    response = myclient.chat.completions.create(\n",
    "      model=\"gpt-3.5-turbo\",\n",
    "      messages=[\n",
    "        {\"role\": \"system\", \"content\": prompt},\n",
    "        {\"role\": \"user\", \"content\": \"Please generate the scripts.\"}\n",
    "      ]\n",
    "    )\n",
    "    return response.choices[0].message.content\n"
   ]
  },
  {
   "cell_type": "code",
   "execution_count": null,
   "metadata": {
    "colab": {
     "base_uri": "https://localhost:8080/"
    },
    "id": "ocU-NSt1_t5x",
    "outputId": "05c31d2d-3295-454e-87d3-b58d8b6957be"
   },
   "outputs": [
    {
     "name": "stdout",
     "output_type": "stream",
     "text": [
      "* script_1: \n",
      "Hey there, everyone! Welcome back to my channel. Today, I am beyond excited because the new Apple Watch Series 9 is finally here! And guess what? I got it in the stunning pink color. Trust me, I've been waiting for this moment forever. Let's unbox it together and compare it to the Apple Watch Series 8. But before we dive in, take a look at this new carbon-neutral band. It's absolutely beautiful and environmentally friendly. Let's go for the sport loop style unboxing, because you know, it's always chic. Alright, time to hook this baby up. Oh, and by the way, I'm also switching out my Series 8 for some variety. I mean, who doesn't love matching their watch with different outfits, right? And check out this sleek Nike sport band I got too. So, in my next video, let me know if you want me to compare the Apple Watch Series 8 with this fabulous Series 9. We've got a lot to talk about all these incredible upgrades!\n",
      "\n",
      "* script_2: \n",
      "Hey, hey, hey! What's up, my lovely viewers? I have some mind-blowing news to share with you. Drumroll, please! Microsoft has taken the throne from Apple and become the world's most valuable publicly traded company. Can you believe it? Their market capitalization is a whopping $2.89 trillion! Now, let's dive into why Microsoft is on such a winning streak. It's all about their investment in generative artificial intelligence, folks. They are really pushing the boundaries by integrating incredible AI tools like ChatGPT into their suite of products. It's revolutionizing the tech world! Microsoft is unstoppable right now, and their success is truly well-deserved.\n",
      "\n",
      "* script_3: \n",
      "Hey there, fabulous people! It's your girl again with some exciting news. Today, I have a video packed with awesomeness for you. But before we get into that, let's talk about something beautiful – the pink Apple Watch Series 9. Can we just take a moment to appreciate its subtle yet stunning color? I've been waiting for this for what feels like forever, and now I finally have it in my hands. And guess what? I'll be unboxing it for you right now! But wait, that's not all. We're also going to compare it side by side with the Apple Watch Series 8. So, get ready for all the juicy details on these upgrades. Oh, and have I mentioned this cool carbon-neutral band? I'm obsessed with it! And let's unbox the sport loop style, because you know it's super chic. Alright, time to hook this beauty up and maybe switch out my Series 8 for a little fashion variety. I even got a Nike sport band to spice things up. So, let me know if you want a video where I compare the Apple Watch Series 8 with this stunning Series 9. There's so much to talk about, and I can't wait to hear your thoughts!\n"
     ]
    }
   ],
   "source": [
    "user_transcript = transcript.text\n",
    "article = summaries_dict['summary_1']\n",
    "duration = 30\n",
    "\n",
    "scripts = generate_script(user_transcript, article, duration)\n",
    "print(scripts)"
   ]
  },
  {
   "cell_type": "code",
   "execution_count": null,
   "metadata": {
    "colab": {
     "base_uri": "https://localhost:8080/",
     "height": 145
    },
    "id": "ds0aWqe0FSuq",
    "outputId": "d2e9813e-9572-4476-a073-83cd28de4815"
   },
   "outputs": [
    {
     "data": {
      "application/vnd.google.colaboratory.intrinsic+json": {
       "type": "string"
      },
      "text/plain": [
       "\"* script_1: \\nHey there, everyone! Welcome back to my channel. Today, I am beyond excited because the new Apple Watch Series 9 is finally here! And guess what? I got it in the stunning pink color. Trust me, I've been waiting for this moment forever. Let's unbox it together and compare it to the Apple Watch Series 8. But before we dive in, take a look at this new carbon-neutral band. It's absolutely beautiful and environmentally friendly. Let's go for the sport loop style unboxing, because you know, it's always chic. Alright, time to hook this baby up. Oh, and by the way, I'm also switching out my Series 8 for some variety. I mean, who doesn't love matching their watch with different outfits, right? And check out this sleek Nike sport band I got too. So, in my next video, let me know if you want me to compare the Apple Watch Series 8 with this fabulous Series 9. We've got a lot to talk about all these incredible upgrades!\\n\\n* script_2: \\nHey, hey, hey! What's up, my lovely viewers? I have some mind-blowing news to share with you. Drumroll, please! Microsoft has taken the throne from Apple and become the world's most valuable publicly traded company. Can you believe it? Their market capitalization is a whopping $2.89 trillion! Now, let's dive into why Microsoft is on such a winning streak. It's all about their investment in generative artificial intelligence, folks. They are really pushing the boundaries by integrating incredible AI tools like ChatGPT into their suite of products. It's revolutionizing the tech world! Microsoft is unstoppable right now, and their success is truly well-deserved.\\n\\n* script_3: \\nHey there, fabulous people! It's your girl again with some exciting news. Today, I have a video packed with awesomeness for you. But before we get into that, let's talk about something beautiful – the pink Apple Watch Series 9. Can we just take a moment to appreciate its subtle yet stunning color? I've been waiting for this for what feels like forever, and now I finally have it in my hands. And guess what? I'll be unboxing it for you right now! But wait, that's not all. We're also going to compare it side by side with the Apple Watch Series 8. So, get ready for all the juicy details on these upgrades. Oh, and have I mentioned this cool carbon-neutral band? I'm obsessed with it! And let's unbox the sport loop style, because you know it's super chic. Alright, time to hook this beauty up and maybe switch out my Series 8 for a little fashion variety. I even got a Nike sport band to spice things up. So, let me know if you want a video where I compare the Apple Watch Series 8 with this stunning Series 9. There's so much to talk about, and I can't wait to hear your thoughts!\""
      ]
     },
     "execution_count": 106,
     "metadata": {},
     "output_type": "execute_result"
    }
   ],
   "source": [
    "scripts"
   ]
  },
  {
   "cell_type": "code",
   "execution_count": null,
   "metadata": {
    "id": "XuEx8mu_Dl6K"
   },
   "outputs": [],
   "source": [
    "import re\n",
    "\n",
    "def generate_script_dict(text):\n",
    "    \"\"\"\n",
    "    Generates a dictionary of scripts from a given text.\n",
    "\n",
    "    Parameters:\n",
    "    text (str): A string containing scripts, each starting with '* script_'.\n",
    "\n",
    "    Returns:\n",
    "    dict: A dictionary with each script under a unique key.\n",
    "    \"\"\"\n",
    "    # Splitting the text into separate scripts using '* script_' as a delimiter\n",
    "    split_scripts = re.split(r'\\* script_\\d+: ', text)[1:]\n",
    "\n",
    "    # Initializing an empty dictionary\n",
    "    scripts = {}\n",
    "\n",
    "    # Assigning scripts to the dictionary\n",
    "    for i, script in enumerate(split_scripts):\n",
    "        key = f'script_{i+1}'\n",
    "        scripts[key] = script.strip()  # Remove leading/trailing whitespace\n",
    "\n",
    "    return scripts\n"
   ]
  },
  {
   "cell_type": "code",
   "execution_count": null,
   "metadata": {
    "colab": {
     "base_uri": "https://localhost:8080/"
    },
    "id": "i_nnWohfD9cT",
    "outputId": "e39eb39a-df08-4e77-d8d5-7b44e8a852c4"
   },
   "outputs": [
    {
     "data": {
      "text/plain": [
       "{'script_1': \"Hey there, everyone! Welcome back to my channel. Today, I am beyond excited because the new Apple Watch Series 9 is finally here! And guess what? I got it in the stunning pink color. Trust me, I've been waiting for this moment forever. Let's unbox it together and compare it to the Apple Watch Series 8. But before we dive in, take a look at this new carbon-neutral band. It's absolutely beautiful and environmentally friendly. Let's go for the sport loop style unboxing, because you know, it's always chic. Alright, time to hook this baby up. Oh, and by the way, I'm also switching out my Series 8 for some variety. I mean, who doesn't love matching their watch with different outfits, right? And check out this sleek Nike sport band I got too. So, in my next video, let me know if you want me to compare the Apple Watch Series 8 with this fabulous Series 9. We've got a lot to talk about all these incredible upgrades!\",\n",
       " 'script_2': \"Hey, hey, hey! What's up, my lovely viewers? I have some mind-blowing news to share with you. Drumroll, please! Microsoft has taken the throne from Apple and become the world's most valuable publicly traded company. Can you believe it? Their market capitalization is a whopping $2.89 trillion! Now, let's dive into why Microsoft is on such a winning streak. It's all about their investment in generative artificial intelligence, folks. They are really pushing the boundaries by integrating incredible AI tools like ChatGPT into their suite of products. It's revolutionizing the tech world! Microsoft is unstoppable right now, and their success is truly well-deserved.\",\n",
       " 'script_3': \"Hey there, fabulous people! It's your girl again with some exciting news. Today, I have a video packed with awesomeness for you. But before we get into that, let's talk about something beautiful – the pink Apple Watch Series 9. Can we just take a moment to appreciate its subtle yet stunning color? I've been waiting for this for what feels like forever, and now I finally have it in my hands. And guess what? I'll be unboxing it for you right now! But wait, that's not all. We're also going to compare it side by side with the Apple Watch Series 8. So, get ready for all the juicy details on these upgrades. Oh, and have I mentioned this cool carbon-neutral band? I'm obsessed with it! And let's unbox the sport loop style, because you know it's super chic. Alright, time to hook this beauty up and maybe switch out my Series 8 for a little fashion variety. I even got a Nike sport band to spice things up. So, let me know if you want a video where I compare the Apple Watch Series 8 with this stunning Series 9. There's so much to talk about, and I can't wait to hear your thoughts!\"}"
      ]
     },
     "execution_count": 108,
     "metadata": {},
     "output_type": "execute_result"
    }
   ],
   "source": [
    "scripts_dict = generate_script_dict(scripts)\n",
    "scripts_dict"
   ]
  },
  {
   "cell_type": "code",
   "execution_count": null,
   "metadata": {
    "colab": {
     "base_uri": "https://localhost:8080/"
    },
    "id": "MD6h6jo3H9Ew",
    "outputId": "d5493467-f9ef-4819-9dc9-1820a3e76d79"
   },
   "outputs": [
    {
     "name": "stdout",
     "output_type": "stream",
     "text": [
      "Hey there, fabulous people! It's your girl again with some exciting news. Today, I have a video packed with awesomeness for you. But before we get into that, let's talk about something beautiful – the pink Apple Watch Series 9. Can we just take a moment to appreciate its subtle yet stunning color? I've been waiting for this for what feels like forever, and now I finally have it in my hands. And guess what? I'll be unboxing it for you right now! But wait, that's not all. We're also going to compare it side by side with the Apple Watch Series 8. So, get ready for all the juicy details on these upgrades. Oh, and have I mentioned this cool carbon-neutral band? I'm obsessed with it! And let's unbox the sport loop style, because you know it's super chic. Alright, time to hook this beauty up and maybe switch out my Series 8 for a little fashion variety. I even got a Nike sport band to spice things up. So, let me know if you want a video where I compare the Apple Watch Series 8 with this stunning Series 9. There's so much to talk about, and I can't wait to hear your thoughts!\n"
     ]
    }
   ],
   "source": [
    "print(scripts_dict['script_3'])"
   ]
  },
  {
   "cell_type": "code",
   "execution_count": null,
   "metadata": {
    "id": "oBgOz2C6TszA"
   },
   "outputs": [],
   "source": [
    "# Define the paths to your files\n",
    "d_id_api_key_path = '/content/drive/MyDrive/BOOTCAMP/d_id/b_id_key.txt'\n",
    "\n",
    "# Read the API key\n",
    "with open(d_id_api_key_path, 'r') as file:\n",
    "    d_id_api_key = file.read().strip()"
   ]
  },
  {
   "cell_type": "code",
   "execution_count": null,
   "metadata": {
    "colab": {
     "base_uri": "https://localhost:8080/",
     "height": 36
    },
    "id": "yoS7gVusUB5D",
    "outputId": "86fe10de-ea32-457b-e3a9-87ea2518bf09"
   },
   "outputs": [
    {
     "data": {
      "application/vnd.google.colaboratory.intrinsic+json": {
       "type": "string"
      },
      "text/plain": [
       "'am9yZ2UuZ2FyY2lhLm1hcnRpbkBzdHVkZW50LmllLmVkdQ:Tr1R5mGUIV9nj8rUzA_ML'"
      ]
     },
     "execution_count": 111,
     "metadata": {},
     "output_type": "execute_result"
    }
   ],
   "source": [
    "d_id_api_key"
   ]
  },
  {
   "cell_type": "code",
   "execution_count": null,
   "metadata": {
    "colab": {
     "base_uri": "https://localhost:8080/"
    },
    "id": "5_PsR3guQtT_",
    "outputId": "8422d062-b2e4-4054-91c5-ce2406d1315c"
   },
   "outputs": [
    {
     "name": "stdout",
     "output_type": "stream",
     "text": [
      "{\"message\":\"Unauthorized\"}\n"
     ]
    }
   ],
   "source": [
    "import requests\n",
    "\n",
    "url = \"https://api.d-id.com/talks\"\n",
    "\n",
    "payload = {\n",
    "    \"source_url\": \"/content/drive/MyDrive/BOOTCAMP/image/torriwebster.jpg\",\n",
    "    \"driver_url\": \"bank://natural\",\n",
    "    \"script\": {\n",
    "        \"type\": \"text\",\n",
    "        \"subtitles\": True,\n",
    "        \"provider\": {\n",
    "            \"type\": \"microsoft\",\n",
    "            \"voice_id\": \"en-US-JennyNeural\",\n",
    "            \"voice_config\": {\n",
    "                \"style\": \"string\",\n",
    "                \"rate\": \"0.5\",\n",
    "                \"pitch\": \"+2st\"\n",
    "            }\n",
    "        },\n",
    "        \"input\": scripts_dict['script_3'],\n",
    "        \"ssml\": True\n",
    "    },\n",
    "    \"config\": {\n",
    "        \"logo\": {\n",
    "            \"url\": \"string\",\n",
    "            \"position\": [0, 500]\n",
    "        },\n",
    "        \"align_driver\": True,\n",
    "        \"align_expand_factor\": 0,\n",
    "        \"auto_match\": True,\n",
    "        \"motion_factor\": 0,\n",
    "        \"normalization_factor\": 0,\n",
    "        \"sharpen\": True,\n",
    "        \"stitch\": True,\n",
    "        \"result_format\": \"mp4\",\n",
    "        \"fluent\": True,\n",
    "        \"pad_audio\": 0,\n",
    "        \"driver_expressions\": {\n",
    "            \"expressions\": [\n",
    "                {\n",
    "                    \"start_frame\": 0,\n",
    "                    \"expression\": \"neutral\",\n",
    "                    \"intensity\": 0\n",
    "                }\n",
    "            ],\n",
    "            \"transition_frames\": 0\n",
    "        }\n",
    "    },\n",
    "    \"user_data\": \"string\",\n",
    "    \"name\": \"string\",\n",
    "    \"webhook\": \"https://host.domain.tld/to/webhook\",\n",
    "    \"result_url\": \"/content/drive/MyDrive/BOOTCAMP/video\",\n",
    "    \"face\": {\n",
    "        \"top_left\": [0, 0],\n",
    "        \"size\": 512\n",
    "    },\n",
    "    \"persist\": True\n",
    "}\n",
    "headers = {\n",
    "    \"accept\": \"application/json\",\n",
    "    \"Authorization\" : d_id_api_key,\n",
    "    \"content-type\": \"application/json\"\n",
    "}\n",
    "\n",
    "response = requests.post(url, json=payload, headers=headers)\n",
    "\n",
    "print(response.text)"
   ]
  }
 ],
 "metadata": {
  "colab": {
   "authorship_tag": "ABX9TyPlYYQ1bj7zjY8wJ5Gg0PXN",
   "include_colab_link": true,
   "provenance": []
  },
  "kernelspec": {
   "display_name": "Python 3",
   "name": "python3"
  },
  "language_info": {
   "name": "python",
   "version": "3.10.13"
  }
 },
 "nbformat": 4,
 "nbformat_minor": 0
}
