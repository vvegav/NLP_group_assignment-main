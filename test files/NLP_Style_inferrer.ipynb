{
 "cells": [
  {
   "cell_type": "markdown",
   "source": [
    "# Prompting Test\n",
    "\n",
    "This file contains most of the prompts and the results before achieving the best prompt"
   ],
   "metadata": {
    "collapsed": false
   },
   "id": "7ac9a88f7d741b69"
  },
  {
   "cell_type": "markdown",
   "id": "348338e7-9b5c-4577-a5ec-a315ee9fc133",
   "metadata": {},
   "source": [
    "# Inferring Patterns"
   ]
  },
  {
   "cell_type": "code",
   "execution_count": 2,
   "id": "74fcd2cd-f6f2-49a8-9fc6-3345214ba02b",
   "metadata": {},
   "outputs": [],
   "source": [
    "transcript_text = \"The pink Apple Watch Series 9 is officially here, so let's unbox it together. I've been waiting to get my hands on the pink Apple Watch for what feels like forever. Plus, we can compare the new model to the Apple Watch Series 8. The pink is subtle, but it is beautiful. Plus, we've got our hands on the upgraded charger, as well as this new carbon-neutral band that I'm obsessed with. Let's unbox this sport loop style. Really chic. Alright, let's hook this together. Okay, let's upgrade. We're gonna remove the Series 8 for a little bit of variety, and so I can match different outfits. I also got this Nike sport band. Let me know if, in the next video, you want me to compare the Apple Watch Series 8 with the Apple Watch Series 9. We've gotta chat about all of the upgrades.\""
   ]
  },
  {
   "cell_type": "code",
   "execution_count": 3,
   "id": "cc6e589e",
   "metadata": {},
   "outputs": [
    {
     "name": "stdout",
     "output_type": "stream",
     "text": [
      "Collecting openai\n",
      "  Downloading openai-1.12.0-py3-none-any.whl (226 kB)\n",
      "     -------------------------------------- 226.7/226.7 kB 3.4 MB/s eta 0:00:00\n",
      "Collecting pydantic<3,>=1.9.0\n",
      "  Downloading pydantic-2.6.1-py3-none-any.whl (394 kB)\n",
      "     -------------------------------------- 394.8/394.8 kB 6.2 MB/s eta 0:00:00\n",
      "Collecting typing-extensions<5,>=4.7\n",
      "  Downloading typing_extensions-4.9.0-py3-none-any.whl (32 kB)\n",
      "Requirement already satisfied: sniffio in c:\\users\\phili\\anaconda3\\lib\\site-packages (from openai) (1.2.0)\n",
      "Requirement already satisfied: anyio<5,>=3.5.0 in c:\\users\\phili\\anaconda3\\lib\\site-packages (from openai) (3.5.0)\n",
      "Requirement already satisfied: tqdm>4 in c:\\users\\phili\\anaconda3\\lib\\site-packages (from openai) (4.64.1)\n",
      "Collecting httpx<1,>=0.23.0\n",
      "  Downloading httpx-0.26.0-py3-none-any.whl (75 kB)\n",
      "     ---------------------------------------- 75.9/75.9 kB 4.1 MB/s eta 0:00:00\n",
      "Collecting distro<2,>=1.7.0\n",
      "  Using cached distro-1.9.0-py3-none-any.whl (20 kB)\n",
      "Requirement already satisfied: idna>=2.8 in c:\\users\\phili\\anaconda3\\lib\\site-packages (from anyio<5,>=3.5.0->openai) (3.4)\n",
      "Collecting httpcore==1.*\n",
      "  Downloading httpcore-1.0.3-py3-none-any.whl (77 kB)\n",
      "     ---------------------------------------- 77.0/77.0 kB ? eta 0:00:00\n",
      "Requirement already satisfied: certifi in c:\\users\\phili\\anaconda3\\lib\\site-packages (from httpx<1,>=0.23.0->openai) (2023.5.7)\n",
      "Collecting h11<0.15,>=0.13\n",
      "  Using cached h11-0.14.0-py3-none-any.whl (58 kB)\n",
      "Collecting pydantic-core==2.16.2\n",
      "  Downloading pydantic_core-2.16.2-cp310-none-win_amd64.whl (1.9 MB)\n",
      "     ---------------------------------------- 1.9/1.9 MB 9.3 MB/s eta 0:00:00\n",
      "Collecting annotated-types>=0.4.0\n",
      "  Downloading annotated_types-0.6.0-py3-none-any.whl (12 kB)\n",
      "Requirement already satisfied: colorama in c:\\users\\phili\\anaconda3\\lib\\site-packages (from tqdm>4->openai) (0.4.6)\n",
      "Installing collected packages: typing-extensions, h11, distro, annotated-types, pydantic-core, httpcore, pydantic, httpx, openai\n",
      "  Attempting uninstall: typing-extensions\n",
      "    Found existing installation: typing_extensions 4.4.0\n",
      "    Uninstalling typing_extensions-4.4.0:\n",
      "      Successfully uninstalled typing_extensions-4.4.0\n",
      "Successfully installed annotated-types-0.6.0 distro-1.9.0 h11-0.14.0 httpcore-1.0.3 httpx-0.26.0 openai-1.12.0 pydantic-2.6.1 pydantic-core-2.16.2 typing-extensions-4.9.0\n",
      "Note: you may need to restart the kernel to use updated packages.\n"
     ]
    }
   ],
   "source": [
    "!pip install openai"
   ]
  },
  {
   "cell_type": "code",
   "execution_count": 4,
   "id": "8413001d",
   "metadata": {},
   "outputs": [
    {
     "name": "stdout",
     "output_type": "stream",
     "text": [
      "Collecting dotenv\n",
      "  Downloading dotenv-0.0.5.tar.gz (2.4 kB)\n",
      "  Preparing metadata (setup.py): started\n",
      "  Preparing metadata (setup.py): finished with status 'error'\n",
      "Note: you may need to restart the kernel to use updated packages.\n"
     ]
    },
    {
     "name": "stderr",
     "output_type": "stream",
     "text": [
      "  error: subprocess-exited-with-error\n",
      "  \n",
      "  × python setup.py egg_info did not run successfully.\n",
      "  │ exit code: 1\n",
      "  ╰─> [64 lines of output]\n",
      "      c:\\Users\\phili\\anaconda3\\lib\\site-packages\\setuptools\\installer.py:27: SetuptoolsDeprecationWarning: setuptools.installer is deprecated. Requirements should be satisfied by a PEP 517 installer.\n",
      "        warnings.warn(\n",
      "        error: subprocess-exited-with-error\n",
      "      \n",
      "        × python setup.py egg_info did not run successfully.\n",
      "        │ exit code: 1\n",
      "        ╰─> [16 lines of output]\n",
      "            Traceback (most recent call last):\n",
      "              File \"<string>\", line 2, in <module>\n",
      "              File \"<pip-setuptools-caller>\", line 14, in <module>\n",
      "              File \"C:\\Users\\phili\\AppData\\Local\\Temp\\pip-wheel-a7p_ewe0\\distribute_7ab80f23d0164e9ab85eb809c1bd65ff\\setuptools\\__init__.py\", line 2, in <module>\n",
      "                from setuptools.extension import Extension, Library\n",
      "              File \"C:\\Users\\phili\\AppData\\Local\\Temp\\pip-wheel-a7p_ewe0\\distribute_7ab80f23d0164e9ab85eb809c1bd65ff\\setuptools\\extension.py\", line 5, in <module>\n",
      "                from setuptools.dist import _get_unpatched\n",
      "              File \"C:\\Users\\phili\\AppData\\Local\\Temp\\pip-wheel-a7p_ewe0\\distribute_7ab80f23d0164e9ab85eb809c1bd65ff\\setuptools\\dist.py\", line 7, in <module>\n",
      "                from setuptools.command.install import install\n",
      "              File \"C:\\Users\\phili\\AppData\\Local\\Temp\\pip-wheel-a7p_ewe0\\distribute_7ab80f23d0164e9ab85eb809c1bd65ff\\setuptools\\command\\__init__.py\", line 8, in <module>\n",
      "                from setuptools.command import install_scripts\n",
      "              File \"C:\\Users\\phili\\AppData\\Local\\Temp\\pip-wheel-a7p_ewe0\\distribute_7ab80f23d0164e9ab85eb809c1bd65ff\\setuptools\\command\\install_scripts.py\", line 3, in <module>\n",
      "                from pkg_resources import Distribution, PathMetadata, ensure_directory\n",
      "              File \"C:\\Users\\phili\\AppData\\Local\\Temp\\pip-wheel-a7p_ewe0\\distribute_7ab80f23d0164e9ab85eb809c1bd65ff\\pkg_resources.py\", line 1518, in <module>\n",
      "                register_loader_type(importlib_bootstrap.SourceFileLoader, DefaultProvider)\n",
      "            AttributeError: module 'importlib._bootstrap' has no attribute 'SourceFileLoader'\n",
      "            [end of output]\n",
      "      \n",
      "        note: This error originates from a subprocess, and is likely not a problem with pip.\n",
      "      error: metadata-generation-failed\n",
      "      \n",
      "      × Encountered error while generating package metadata.\n",
      "      ╰─> See above for output.\n",
      "      \n",
      "      note: This is an issue with the package mentioned above, not pip.\n",
      "      hint: See above for details.\n",
      "      Traceback (most recent call last):\n",
      "        File \"c:\\Users\\phili\\anaconda3\\lib\\site-packages\\setuptools\\installer.py\", line 82, in fetch_build_egg\n",
      "          subprocess.check_call(cmd)\n",
      "        File \"c:\\Users\\phili\\anaconda3\\lib\\subprocess.py\", line 369, in check_call\n",
      "          raise CalledProcessError(retcode, cmd)\n",
      "      subprocess.CalledProcessError: Command '['c:\\\\Users\\\\phili\\\\anaconda3\\\\python.exe', '-m', 'pip', '--disable-pip-version-check', 'wheel', '--no-deps', '-w', 'C:\\\\Users\\\\phili\\\\AppData\\\\Local\\\\Temp\\\\tmpfxgmonp5', '--quiet', 'distribute']' returned non-zero exit status 1.\n",
      "      \n",
      "      The above exception was the direct cause of the following exception:\n",
      "      \n",
      "      Traceback (most recent call last):\n",
      "        File \"<string>\", line 2, in <module>\n",
      "        File \"<pip-setuptools-caller>\", line 34, in <module>\n",
      "        File \"C:\\Users\\phili\\AppData\\Local\\Temp\\pip-install-lboc_ovx\\dotenv_4fe537639d3142b782277876b83a454e\\setup.py\", line 13, in <module>\n",
      "          setup(name='dotenv',\n",
      "        File \"c:\\Users\\phili\\anaconda3\\lib\\site-packages\\setuptools\\__init__.py\", line 86, in setup\n",
      "          _install_setup_requires(attrs)\n",
      "        File \"c:\\Users\\phili\\anaconda3\\lib\\site-packages\\setuptools\\__init__.py\", line 80, in _install_setup_requires\n",
      "          dist.fetch_build_eggs(dist.setup_requires)\n",
      "        File \"c:\\Users\\phili\\anaconda3\\lib\\site-packages\\setuptools\\dist.py\", line 874, in fetch_build_eggs\n",
      "          resolved_dists = pkg_resources.working_set.resolve(\n",
      "        File \"c:\\Users\\phili\\anaconda3\\lib\\site-packages\\pkg_resources\\__init__.py\", line 789, in resolve\n",
      "          dist = best[req.key] = env.best_match(\n",
      "        File \"c:\\Users\\phili\\anaconda3\\lib\\site-packages\\pkg_resources\\__init__.py\", line 1075, in best_match\n",
      "          return self.obtain(req, installer)\n",
      "        File \"c:\\Users\\phili\\anaconda3\\lib\\site-packages\\pkg_resources\\__init__.py\", line 1087, in obtain\n",
      "          return installer(requirement)\n",
      "        File \"c:\\Users\\phili\\anaconda3\\lib\\site-packages\\setuptools\\dist.py\", line 944, in fetch_build_egg\n",
      "          return fetch_build_egg(self, req)\n",
      "        File \"c:\\Users\\phili\\anaconda3\\lib\\site-packages\\setuptools\\installer.py\", line 84, in fetch_build_egg\n",
      "          raise DistutilsError(str(e)) from e\n",
      "      distutils.errors.DistutilsError: Command '['c:\\\\Users\\\\phili\\\\anaconda3\\\\python.exe', '-m', 'pip', '--disable-pip-version-check', 'wheel', '--no-deps', '-w', 'C:\\\\Users\\\\phili\\\\AppData\\\\Local\\\\Temp\\\\tmpfxgmonp5', '--quiet', 'distribute']' returned non-zero exit status 1.\n",
      "      [end of output]\n",
      "  \n",
      "  note: This error originates from a subprocess, and is likely not a problem with pip.\n",
      "error: metadata-generation-failed\n",
      "\n",
      "× Encountered error while generating package metadata.\n",
      "╰─> See above for output.\n",
      "\n",
      "note: This is an issue with the package mentioned above, not pip.\n",
      "hint: See above for details.\n"
     ]
    }
   ],
   "source": [
    "! pip install dotenv"
   ]
  },
  {
   "cell_type": "code",
   "execution_count": 8,
   "id": "c3d0d00b",
   "metadata": {},
   "outputs": [],
   "source": [
    "import os\n",
    "from openai import OpenAI\n",
    "from dotenv import load_dotenv\n",
    "\n",
    "\n",
    "load_dotenv()\n",
    "client = OpenAI(\n",
    "    api_key = os.getenv('OPENAI'))"
   ]
  },
  {
   "cell_type": "markdown",
   "id": "517e515e",
   "metadata": {},
   "source": [
    "# 1. Attempt to infer Style & Patterns of Infleuncer First"
   ]
  },
  {
   "cell_type": "markdown",
   "id": "2df2e265",
   "metadata": {},
   "source": [
    "### 1. Attempt"
   ]
  },
  {
   "cell_type": "code",
   "execution_count": 14,
   "id": "935d964b-bd96-4aec-b07c-6090cc4e5d4e",
   "metadata": {
    "ExecuteTime": {
     "end_time": "2024-02-14T08:52:11.758408400Z",
     "start_time": "2024-02-14T08:52:10.191495100Z"
    }
   },
   "outputs": [
    {
     "name": "stdout",
     "output_type": "stream",
     "text": [
      "ChatCompletion(id='chatcmpl-8sZB92sI1ONstDXhCYDAa2t5mfDwU', choices=[Choice(finish_reason='stop', index=0, logprobs=None, message=ChatCompletionMessage(content='Transcript 1: \\n\"Hey fam, what\\'s popping! Today I\\'m gonna take you through my sizzling summer haul from Lux to Glam! New season, new me\"\\n\\nTranscript 2: \\n\"Hello lovelies! Let’s dive straight into my skincare routine for that guaranteed glow up. Keep glowing, keep growing\"\\n\\nTranscript 3: \\n\"Hey there, beautiful people! We\\'re cookin\\' up some delicious treats in my kitchen today. Stay tuned, stay hungry\"\\n\\nTranscript 4: \\n\"Hi friends, it\\'s a chilly one today! Time to snuggle up with my top 5 favorite books this season. Keep reading, keep dreaming\"\\n\\nTranscript 5: \\n\"Yo my fab followers! Get ready to sweat it out with my ultimate home workout! Get fit, stay lit!\"\\n\\nStyle and key patterns:\\n\\n1. Warm and casual greeting: The influencer starts each video with a cheerful and casual greeting to their followers, using terms like \"Hey fam,\", \"Hello lovelies!\", \"Hey there, beautiful people!\", \"Hi friends\", and \"Yo my fab followers!\".\\n\\n2. Teaser: The influencer teases the content of the video in an exciting and playful manner, often with a tone of confidence and excitement.\\n\\n3. Themed content: The influencer tailors their content to a specific theme in each video, such as summer haul, skincare routine, cooking, reading, or home workout.\\n\\n4. Engaging and motivating closing line: The influencer tends to end their introduction with a rhyming, motivational tagline to keep their followers engaged and feeling energetic.\\n\\n5. Use of slang and trendy language: The influencer uses popular slang phrases and language that resonates with a younger demographic, such as \"what’s popping\", \"sizzling\", \"glow up\", \"snuggle up\", \"sweat it out\", \"lit\", etc.\\n\\n6. Use of exclamation marks: The influencer frequently uses exclamation marks to add emphasis and express enthusiasm in their speeches.\\n\\n7. Positive and upbeat tone: Overall, the influencer maintains a positive, upbeat tone throughout their content, embodying energy, positivity and a motivational attitude. Their content seems to target a younger audience that enjoys casual and lively conversations.', role='assistant', function_call=None, tool_calls=None))], created=1708015631, model='gpt-4-0613', object='chat.completion', system_fingerprint=None, usage=CompletionUsage(completion_tokens=465, prompt_tokens=89, total_tokens=554))\n"
     ]
    }
   ],
   "source": [
    "\n",
    "\n",
    "prompt =  f\"Infer and describe the style and key patterns of a social media influencer's based on the following transcripts from the influencer's tik tok videos. The description of their style and key patterns shall be used to autogenerate new transcripts based on a news articles and the inferred style/patterns. Below are the transcripts, only return the style and key patterns of the social media influencer, nothing else \\n\\n\"\n",
    "f\"Transcript Text of Video: {transcript_text}\\n\"\n",
    "chat_completion = client.chat.completions.create(\n",
    "    messages = [\n",
    "        {\n",
    "            \"role\":\"user\",\n",
    "            \"content\":prompt\n",
    "        }],\n",
    "    model = \"gpt-4\")\n",
    "\n",
    "print(chat_completion)"
   ]
  },
  {
   "cell_type": "markdown",
   "id": "8fabaeca",
   "metadata": {},
   "source": [
    "### 2. Attempt"
   ]
  },
  {
   "cell_type": "code",
   "execution_count": 15,
   "id": "1d32b483-d5c4-4959-a57e-ef2485e132b1",
   "metadata": {},
   "outputs": [],
   "source": [
    "def generate_script(transcript_text): \n",
    "    prompt = (f\"Infer and describe the style and key patterns of a social media influencer's based on the following transcript of the influencer's tik tok video: \\n\\n\"\n",
    "              f\"Transcript Text of Video: {transcript_text}\\n\"\n",
    "              \"The analysis should at least pick up on the following factors: \"\n",
    "              \"1. Style: describe the use of language, sentence structure, and unique features from the transcript text. \"\n",
    "              \"2. Tone: Reflect and describe the emotional tone of the transcript. \"\n",
    "              \"3. Call to Action: does the influencer encourage some type of behavior or conclusion from the audience? \"\n",
    "              \"4. Focus on specific details: what does aspects or characteristics does the influencer highlight in particular? What are his or her values? \"\n",
    "              \"5. Personality Reflection: Reflect the speaker's personality traits.\\n\\n\"\n",
    "              \"The description of the influencers style and key patterns shall be used to autogenerate new transcripts based on a news articles and the inferred style/patterns. Only return the style and key patterns of the social media influencer, nothing else \"\n",
    "              \"It is mandatory and essential to have this exact format so I can work on it later.\\n\")\n",
    "    response = client.chat.completions.create(model=\"gpt-4\", messages=[{\"role\": \"user\", \"content\": prompt}]) \n",
    "    return response.choices[0].message.content\n"
   ]
  },
  {
   "cell_type": "code",
   "execution_count": 16,
   "id": "c15d38d1-8b29-42b1-ad7e-5b5000e9153c",
   "metadata": {},
   "outputs": [
    {
     "data": {
      "text/plain": [
       "'1. Style: The influencer uses casual, approachable language that is packed with excitement and anticipation. Sentences are informal, often short and engaging, giving the video a fast-paced feel. They are not overly technical, making it clear that they\\'re speaking to a general audience and not just tech enthusiasts. The influencer\\'s style is also very interactive, involving the viewers in the process by using phrases like \"let\\'s unbox it together\". The unique features from the transcript include the use of tech-related terms such as \"upgraded charger\", \"carbon-neutral band\\'\", \"sport loop style\", and references to specific items like the Apple Watch Series 9 and 8.\\n\\n2. Tone: The tone of the transcript is highly enthusiastic and inviting. The influencer expresses eagerness, excitement, and obsession with the products, setting a positive and energetic atmosphere that is aimed at getting the audience excited about the products as well.\\n\\n3. Call to Action: The influencer encourages the audience to engage by frequently asking for their opinions and involvement, such as \"let me know if, in the next video, you want me to compare the Apple Watch Series 8 with the Apple Watch Series 9\". This creates a conversational atmosphere that motivates viewers to participate, engage, and follow the channel for more.\\n\\n4. Focus on Specific Details: The influencer pays particular attention to aesthetic features, specifically color and style. They also highlight the green-friendly feature of the new band, indicating that they value sustainability. Additionally, the influencer shows interest in the upgraded features and compatibility with different outfits, indicating their value on functionality and fashion.\\n\\n5. Personality Reflection: The personality of the influencer seems outgoing, fashionable, and tech-savvy. They come across as someone who is enthusiastic about new technology and eager to share their passion with others. Their interest in matching the watch with different outfits also suggests they have a keen sense of style.'"
      ]
     },
     "execution_count": 16,
     "metadata": {},
     "output_type": "execute_result"
    }
   ],
   "source": [
    "generate_script(transcript_text)"
   ]
  },
  {
   "cell_type": "markdown",
   "id": "1617e280",
   "metadata": {},
   "source": [
    "### 3. Attempt"
   ]
  },
  {
   "cell_type": "code",
   "execution_count": 17,
   "id": "7de9a02e-c9b7-47bd-bacb-ef3ba8f40c00",
   "metadata": {},
   "outputs": [],
   "source": [
    "def generate_script(transcript_text):\n",
    "    prompt = (f\"Infer and describe the style and key patterns of a social media influencer based on the transcript of their TikTok video. Include a detailed analysis covering a broad range of aspects to capture the essence of their online presence: \\n\\n\"\n",
    "              f\"Transcript Text of Video: {transcript_text}\\n\\n\"\n",
    "              \"Analysis should comprehensively cover AT LEAST the following aspects and ideally more: \"\n",
    "              \"1. Style and Language: Describe the use of language, sentence structure, and unique linguistic features. \"\n",
    "              \"2. Tone and Emotion: Reflect on and describe the emotional tone used to engage the audience \"\n",
    "              \"3. Engagement Strategies: Identify calls to action or interactive elements to encourage audience participation \"\n",
    "              \"4. Content Themes: Detail the themes or topics that are frequently addressed. Explain how these reflect the influencer's brand or niche\"\n",
    "              \"5. Visual Presentation: Comment on the use of visuals, aesthetics, or any unique visual branding elements. \"\n",
    "              \"6. Adaptability to Trends: Explain how  the influencer incorporates or responds to current trends within their content \"\n",
    "              \"7. Authenticity and Personality Reflection: Reflect on how the influencer's personality is conveyed through their content to make their approach unique \"\n",
    "              \"8. Audience Connection: How effectively does the influencer establish a connection with their audience? Explain the techniques they use to foster a sense of community \"\n",
    "              \"\\n\"\n",
    "              \"This comprehensive analysis will help in understanding the multifaceted approach of the influencer's style and key patterns. It will be used to auto-generate new transcripts based on news articles and the inferred style/patterns, ensuring a rich and diverse content creation strategy. \"\n",
    "              \"\\nPlease provide a detailed description focusing on these expanded aspects and more to capture the full scope of the influencer's online persona.\\n\")\n",
    "    \n",
    "    response = client.chat.completions.create(model=\"gpt-4\", messages=[{\"role\": \"user\", \"content\": prompt}])\n",
    "    return response.choices[0].message.content\n"
   ]
  },
  {
   "cell_type": "code",
   "execution_count": 18,
   "id": "af5ad800-2cc4-4723-9844-6b4ae039653b",
   "metadata": {},
   "outputs": [
    {
     "data": {
      "text/plain": [
       "'1. Style and Language: The influencer uses simple, engaging conversational language which makes it easy for a wide range of audience members to understand. The use of short, concise sentences and phrases suggests a fast-paced, action-based style. Unique linguistic feature includes the use of jargon and specialized terms – like \"carbon-neutral band\", \"unbox\", \"upgrade\", \"sport loop style\", indicating an expertise in tech-related content.\\n\\n2. Tone and Emotion: The tone is excited and enthusiastic, creating an energetic atmosphere. The positive emotive language such as \"feels like forever\", \"beautiful\", \"obsessed\", \"chic\" help increase the emotional investment from the audience, creating a sense of anticipation.\\n\\n3. Engagement Strategies: The influencer utilizes direct address to the audience (using  \\'we\\' and \\'let’s\\'), making the video feel collaborative and engaging. The influencer also asks for feedback (\"let me know if\"), establishing a conversation or an interactive platform with the audience.\\n\\n4. Content Themes: The influencer is mostly focused on technology, specifically Apple products, indicating a niche in tech reviews and unboxing videos. This aligns with their brand as a tech influencer, which is solidified by the detail and specificity in their review.\\n\\n5. Visual Presentation: From the transcript alone, it can be inferred that the influencer likely uses lots of close-ups and detailed visual presentations of the products being unboxed or compared, offering viewers a satisfying and vivid experience.\\n\\n6. Adaptability to Trends: The influencer stays up-to-date with the latest tech releases, in this case, the Apple Watch Series 9, signaling adaptability to trends in tech industry and keeping the content fresh and relevant for the audience.\\n\\n7. Authenticity and Personality Reflection: The informal and playful language combined with the evident excitement about the products presents an authentic and passionate personality. The influencer\\'s preference for different styles and colors of bands suggests a focus on aesthetics and personal fashion, making their content unique.\\n\\n8. Audience Connection: The influencer creates a strong connection with the audience by engaging them directly, asking for their feedback and making them feel part of the unboxing experience. They successfully foster a sense of community by setting up a potential dialogue about the Apple Watch\\'s latest series and encouraging audience participation in choosing the topic for the next video.\\n\\nOverall, this influencer’s key patterns include engaging their audiences with an enthusiastic tone, keeping up with relevant tech trends, and incorporating their personal style and preferences into their reviews, which enriches their authenticity. The way they combines tech expertise with fashion elements in their content also makes their online persona especially unique and appealing.'"
      ]
     },
     "execution_count": 18,
     "metadata": {},
     "output_type": "execute_result"
    }
   ],
   "source": [
    "generate_script(transcript_text)"
   ]
  },
  {
   "cell_type": "markdown",
   "id": "98455eb6",
   "metadata": {},
   "source": [
    "### 4. Attempt"
   ]
  },
  {
   "cell_type": "code",
   "execution_count": 19,
   "id": "6d04a79d-9091-4ed5-8a7b-540aac2e328d",
   "metadata": {},
   "outputs": [],
   "source": [
    "def generate_high_level_blueprint(transcript_text):\n",
    "    prompt = (\n",
    "        \"Create a set of high-level guidelines for structuring future transcripts that reflect the successful characteristics, \"\n",
    "        \"styles, and patterns typically observed in social media influencers' content. These guidelines should serve as a \"\n",
    "        \"general framework for content creation, ensuring new transcripts resonate with audiences while embodying the essence \"\n",
    "        \"of a successful online persona. Focus on broad strategies rather than specific examples, providing a versatile \"\n",
    "        \"blueprint applicable to various content themes and formats.\\n\\n\"\n",
    "        \"The guidelines should encompass the following aspects: \"\n",
    "        \"1. Style and Language: General principles for using engaging language and distinctive sentence structures. \"\n",
    "        \"2. Tone and Emotion: Strategies for capturing and conveying a compelling emotional tone to engage the audience. \"\n",
    "        \"3. Engagement Strategies: Approaches for incorporating interactive elements and calls to action to boost audience participation. \"\n",
    "        \"4. Content Themes: Criteria for selecting and presenting themes that align with the influencer’s brand identity. \"\n",
    "        \"5. Visual Presentation: Recommendations for using visual and aesthetic elements to enhance content appeal. \"\n",
    "        \"6. Adaptability to Trends: Guidelines for integrating current trends while maintaining a unique style. \"\n",
    "        \"7. Authenticity and Personality: Advice on expressing the influencer’s personality to foster authenticity. \"\n",
    "        \"8. Audience Connection: Techniques for building a strong connection and cultivating a sense of community among viewers. \"\n",
    "        \"\\nProvide a comprehensive set of guidelines that can be adapted to suit a range of content types, ensuring they are \"\n",
    "        \"broad and flexible enough to guide the creation of engaging and authentic influencer content.\\n\"\n",
    "    )\n",
    "\n",
    "    response = client.chat.completions.create(model=\"gpt-4\", messages=[{\"role\": \"user\", \"content\": prompt}])\n",
    "    return response.choices[0].message.content\n"
   ]
  },
  {
   "cell_type": "code",
   "execution_count": 20,
   "id": "7f22896e-0117-4dcc-9a2b-951d2d23c563",
   "metadata": {},
   "outputs": [
    {
     "data": {
      "text/plain": [
       "'1. Style and Language: The influencer uses casual, accessible language and short, clear sentences. They use phrases like \\'let\\'s unbox it together\\' which instills a sense of community and belonging, enhancing the viewer\\'s experience. They regularly use descriptive phrases to indicate their enthusiasm and to share vivid descriptions. They use the current lingo, referencing terms like \"unbox\", \"upgrade\", and \"carbon-neutral band\". \\n\\n2. Tone and Emotion: The influencer conveys enthusiasm due to phrases such as \"I\\'ve been waiting...,\" \"let\\'s upgrade,\" and \"we\\'ve gotta chat about the upgrades.\" Their tone is upbeat and positive, engaging the viewer, and eliciting a feeling of excitement.\\n\\n3. Engagement Strategies: They consistently use engagement strategies such as asking the audience whether they would like a comparison review in the next video. They also use phrases like \"let\\'s unbox,\" suggesting a collective action which may give their audience a sense of participation.\\n\\n4. Content Themes: The main theme appears to be technology, specifically product features and reviews of Apple products. They also highlight sustainability, for example, with the mention of a carbon-neutral band. This indicates that they are focused on trend-conscious audience members with an interest in tech and environmentally friendly products.\\n\\n5. Visual Presentation: While the TikTok video isn\\'t visible in the text, the influencer seems conscious of sharing visual experiences such as unboxing, comparing, and looking at the aesthetic appeal of products. The use of the color pink, for example, suggests they might use visual branding elements to appeal to a certain demographic.\\n\\n6. Adaptability to Trends: The influencer shows a strong adaptability to trends, signaled by their upgrade to the new Apple Watch Series 9. They are updated and reactive to the released tech products, thus ensuring their content is timely and relevant.\\n\\n7. Authenticity and Personality Reflection: The influencer represents themselves as exponentially tech-forward, trendy, and aesthetically inclined, evidenced by the discussion of matching watches to outfits. Their unboxing video of the latest Apple Watch model indicates an authentic commitment to showcasing new technology.\\n\\n8. Audience Connection: The influencer connects with the audience well by using inclusive language such as \"let\\'s,\" directly asking for feedback on future video topics, and sharing personal excitement about new products. Using words like \"we\" and \"our\" make viewers feel part of the experience.\\n\\nIn summary, the TikTok Influencer represents a knowledgeable, trendy, and enthused tech enthusiast. With an enthusiasm for sharing unboxing experiences and the latest tech news, this influencer creates an inclusive atmosphere, inviting viewers to take part in the thrill of exploring new products.'"
      ]
     },
     "execution_count": 20,
     "metadata": {},
     "output_type": "execute_result"
    }
   ],
   "source": [
    "generate_script(transcript_text)"
   ]
  },
  {
   "cell_type": "markdown",
   "id": "08ee00ad",
   "metadata": {},
   "source": [
    "### 5. Attempt"
   ]
  },
  {
   "cell_type": "code",
   "execution_count": 16,
   "id": "d2f1c133-7ace-4e51-8bc3-b7fbc8523bee",
   "metadata": {},
   "outputs": [],
   "source": [
    "def generate_high_level_blueprint(transcript_text):\n",
    "    prompt = (\n",
    "        f\"Create a set of high-level guidelines for structuring future transcripts that reflect the successful characteristics, \\n\\n \"\n",
    "        f\"Transcript Text of Video: {transcript_text}\\n\\n\"\n",
    "        \"styles, and patterns typically observed in social media influencers' content. These guidelines should serve as a \"\n",
    "        \"general framework for content creation, ensuring new transcripts resonate with audiences while embodying the essence \"\n",
    "        \"of a successful online persona. Focus on broad strategies you MUST NOT mention any specific examples, providing a versatile \"\n",
    "        \"blueprint applicable to various content themes and formats.\\n\\n\"\n",
    "        \"The guidelines should encompass the following aspects: \"\n",
    "        \"1. Style and Language: General principles for using engaging language and distinctive sentence structures. \"\n",
    "        \"2. Tone and Emotion: Strategies for capturing and conveying a compelling emotional tone to engage the audience. \"\n",
    "        \"3. Engagement Strategies: Approaches for incorporating interactive elements and calls to action to boost audience participation. \"\n",
    "        \"4. Content Themes: Criteria for selecting and presenting themes that align with the influencer’s brand identity. \"\n",
    "        \"5. Visual Presentation: Recommendations for using visual and aesthetic elements to enhance content appeal. \"\n",
    "        \"6. Adaptability to Trends: Guidelines for integrating current trends while maintaining a unique style. \"\n",
    "        \"7. Authenticity and Personality: Advice on expressing the influencer’s personality to foster authenticity. \"\n",
    "        \"8. Audience Connection: Techniques for building a strong connection and cultivating a sense of community among viewers. \"\n",
    "        \"\\nProvide a comprehensive set of guidelines that can be adapted to suit a range of content types, ensuring they are \"\n",
    "        \"broad and flexible enough to guide the creation of engaging and authentic influencer content.\\n\"\n",
    "    )\n",
    "\n",
    "    response = client.chat.completions.create(model=\"gpt-4\", messages=[{\"role\": \"user\", \"content\": prompt}])\n",
    "    return response.choices[0].message.content\n"
   ]
  },
  {
   "cell_type": "code",
   "execution_count": 19,
   "id": "9c66c80d-2b8c-418c-b0c7-02da05676f18",
   "metadata": {},
   "outputs": [
    {
     "data": {
      "text/plain": [
       "\"1. Style and Language:\\n    - Use engaging and conversational language that reflects the influencer's personality. \\n    - Avoid complex sentences and jargon. Turn to simple, clear communication.\\n    - Use popular slang and phrases prevalent on social media platforms, if they come naturally.\\n    - Incorporate humor, where appropriate, to create a relaxed and enjoyable atmosphere.\\n\\n2. Tone and Emotion:\\n    - Radiate positivity and enthusiasm in all content, this greatly improves audience engagement.\\n    - Show empathy where necessary to resonate emotionally with the audience.\\n    - Be upbeat and energetic, mirroring the tone of successful social media influencers that tend to adopt a high-energy, friendly tone.\\n \\n3. Engagement Strategies:\\n    - Include regular calls to action asking viewers to like, share, comment, or subscribe.\\n    - Respond to comments, both positive and negative, maintaining a helpful and playful tone.\\n    - Run competitions or challenges to boost user engagement.\\n    - Ask questions to stimulate dialogue and boost engagement.\\n\\n4. Content Themes:\\n    - Choose themes that align with the influencer's brand identity.\\n    - Personal interests and passions will resonate as more genuine.\\n    - Stay updated with trending topics that correlate with the influencer's niche, and incorporate them into the content when relevant.\\n    \\n5. Visual Presentation:\\n    - Depict storylines visually wherever possible for added appeal.\\n    - Use visual aids such as pictures, animations, or diagrams to clarify complex points.\\n    - Maintain a consistent, high-quality aesthetic that matches the influencer's brand image.\\n\\n6. Adaptability to Trends:\\n    - Keep a pulse on social and cultural trends both within and outside of the industry. \\n    - Utilize popular hashtags or participate in viral challenges, while retaining a unique perspective.\\n    - Avoid copying trends directly, instead, let it inspire your content in a way that aligns with your authentic style and theme.\\n\\n7. Authenticity and Personality:\\n    - Bring personal stories, opinions, and experiences into the content.\\n    - Stay true to personal values and always prioritize honesty and transparency.\\n    - Avoid promoting products or services that the influencer does not personally approve of.\\n\\n8. Audience Connection:\\n    - Regularly engage with the audience beyond just asking for likes or shares, e.g., reply to comments, host Q&A sessions, etc.\\n    - Share personal successes, failures, and learnings, which foster relatability.\\n    - Show appreciation for the audience's support and involvement. \\nOffer occasional behind-the-scenes content to build a closer bond with the viewers.\""
      ]
     },
     "execution_count": 19,
     "metadata": {},
     "output_type": "execute_result"
    }
   ],
   "source": [
    "generate_high_level_blueprint(transcript_text)"
   ]
  },
  {
   "cell_type": "markdown",
   "id": "bedf4b7e",
   "metadata": {},
   "source": [
    "### 6. Attempt"
   ]
  },
  {
   "cell_type": "code",
   "execution_count": 20,
   "id": "fe187e18-4d9e-46e3-92f5-20cc6f6685bf",
   "metadata": {},
   "outputs": [],
   "source": [
    "def generate_specific_content_guidelines(transcript_text):\n",
    "    prompt = (\n",
    "        \"Based on the stylistic elements identified in the provided transcript of an influencer's TikTok video, \"\n",
    "        \"synthesize a set of specific content creation guidelines. These guidelines should closely reflect the unique \"\n",
    "        \"characteristics and patterns evident in the transcript, enabling the creation of new content that aligns with \"\n",
    "        \"the influencer's proven successful approach. Focus on actionable strategies that can be directly implemented, \"\n",
    "        \"assuming no further knowledge about the influencer's personal tastes or background. \\n\\n\"\n",
    "        \"Transcript Text of Video: {transcript_text}\\n\\n\"\n",
    "        \"The guidelines should elaborate on the following dimensions, inferred directly from the transcript: \"\n",
    "        \"1. Language Use and Stylistic Features: Adapt language style and sentence structures that mirror the influencer's approach. \"\n",
    "        \"2. Tone and Emotional Engagement: Replicate the tone and methods of emotional connection with the audience. \"\n",
    "        \"3. Engagement and Interaction: Outline specific calls to action or engagement techniques used by the influencer. \"\n",
    "        \"4. Content Themes and Focus: Identify and suggest themes or subjects consistent with those highlighted by the influencer. \"\n",
    "        \"5. Visual and Aesthetic Recommendations: Suggest visual presentation styles inferred from the transcript's description. \"\n",
    "        \"6. Consistency and Branding: Maintain a consistent personal brand as suggested by the influencer’s content style. \"\n",
    "        \"\\nThese guidelines aim to provide a clear blueprint for replicating the influencer's content style and engaging effectively with their audience, \"\n",
    "        \"based solely on the analysis of their communication style, without further input on their personal preferences or background.\\n\"\n",
    "    )\n",
    "\n",
    "    response = client.chat.completions.create(model=\"gpt-4\", messages=[{\"role\": \"user\", \"content\": prompt.format(transcript_text=transcript_text)}])\n",
    "    return response.choices[0].message.content\n"
   ]
  },
  {
   "cell_type": "code",
   "execution_count": 21,
   "id": "03d07f1d-1d4d-45ab-aacf-b5fc5dee7b70",
   "metadata": {},
   "outputs": [
    {
     "data": {
      "text/plain": [
       "'1. Language Use and Stylistic Features:\\n   - Use casual and conversational language to make your video feel friendly and relatable.\\n   - Frequent use of first-person pronouns (\"I\", \"we\", \"my\") to foster a sense of shared experience and community.\\n   - Make use of descriptive adjectives to enhance the visuals (“subtle”, “beautiful”, “obsessed”, “chic”).\\n   - Switch up sentence structures between short, snappy sentences and longer, more complex ones. This keeps the content fresh and engaging.\\n\\n2. Tone and Emotional Engagement:\\n   - Combine enthusiasm and excitement throughout your content to captivate the audience’s emotions.\\n   - Show your genuine passion and anticipation for the product (“I\\'ve been waiting”, “I\\'m obsessed”).\\n   - Make your audience feel part of your journey by including them in your narrative (“let’s unbox it together”, “we\\'ve gotta chat”).\\n\\n3. Engagement and Interaction:\\n   - Directly encourage viewer interaction by offering options for upcoming content (“Let me know if in the next video…”).\\n   - Allow your audiences to feel as though you are speaking directly to them by utilizing \\n     second-person address (“you”, “let\\'s”).\\n   - Highlight your own actions or thoughts in order to further stimulate audience interaction (\"Alright, let\\'s hook this together\").\\n\\n4. Content Themes and Focus:\\n   - Center the content around unboxing, reviews and comparison of tech gadgets, particularly focusing on popular culture brands such as Apple.\\n   - Dive into the unique attributes of each product, showcasing their specific features (“upgraded charger”, “carbon-neutral band”).\\n\\n5. Visual and Aesthetic Recommendations:\\n   - Visual content should showcase the product in detail, emphasizing its aesthetic aspects (“pink is subtle, but beautiful”, “sport loop style”).\\n   - Include physical demonstration of how the product works/looks while describing it (“let’s unbox this”, “let’s hook this together”).\\n\\n6. Consistency and Branding:\\n   - Maintain a consistent theme regarding technology, particularly popular, high-end products.\\n   - Display a personal connection to the product and the viewing audience, fostering a distinct personal brand with a friendly, relatable demeanor.\\n   - Balance technical product analysis with a sense of style and fashion (“so I can match different outfits\").'"
      ]
     },
     "execution_count": 21,
     "metadata": {},
     "output_type": "execute_result"
    }
   ],
   "source": [
    "generate_specific_content_guidelines(transcript_text)"
   ]
  },
  {
   "cell_type": "markdown",
   "id": "98e638ae",
   "metadata": {},
   "source": [
    "### 7. Attempt"
   ]
  },
  {
   "cell_type": "code",
   "execution_count": 4,
   "id": "5628fe17-a774-492e-b5fb-4df84b15bd8c",
   "metadata": {},
   "outputs": [],
   "source": [
    "def generate_specific_content_guidelines(transcript_text):\n",
    "    prompt = (\n",
    "        \"Based on the stylistic elements identified in the provided transcript of an influencer's TikTok video, \"\n",
    "        \"synthesize a set of specific content creation guidelines. These guidelines should closely reflect the unique \"\n",
    "        \"characteristics and patterns evident in the transcript, enabling the creation of new content that aligns with \"\n",
    "        \"the influencer's proven successful approach. Focus on actionable strategies that can be directly implemented. You MUST NOT mention specific examples in quotes, \"\n",
    "        \"assuming no further knowledge about the influencer's personal tastes or background. \\n\\n\"\n",
    "        \"Transcript Text of Video: {transcript_text}\\n\\n\"\n",
    "        \"The guidelines should elaborate on the following dimensions, inferred directly from the transcript: \"\n",
    "        \"1. Language Use and Stylistic Features: Adapt language style and sentence structures that mirror the influencer's approach. \"\n",
    "        \"2. Tone and Emotional Engagement: Replicate the tone and methods of emotional connection with the audience. \"\n",
    "        \"3. Engagement and Interaction: Outline specific calls to action or engagement techniques used by the influencer. \"\n",
    "        \"\\nThese guidelines aim to provide a clear blueprint for replicating the influencer's content style and engaging effectively with their audience, \"\n",
    "        \"based solely on the analysis of their communication style, without further input on their personal preferences or background.\\n\"\n",
    "    )\n",
    "\n",
    "    response = client.chat.completions.create(model=\"gpt-4\", messages=[{\"role\": \"user\", \"content\": prompt.format(transcript_text=transcript_text)}])\n",
    "    return response.choices[0].message.content"
   ]
  },
  {
   "cell_type": "code",
   "execution_count": 26,
   "id": "ed9c150a-5fe1-494f-8ff7-f3d2b572b5b0",
   "metadata": {},
   "outputs": [
    {
     "data": {
      "text/plain": [
       "'1. Language Use and Stylistic Features:\\n   - Implement conversational language to create a friendly, interactive atmosphere. Avoid technical jargon or overly formal language.\\n   - Utilize first-person narrative and involve yourself directly in the content. Use \"I\" statements frequently and phrases that show the impact on the self, such as \"I\\'ve been waiting\" or \"I\\'m obsessed with\".\\n   - Be descriptive and excited when discussing physical objects or product features. For example, details about color should be vivid (\"the pink is subtle but beautiful\"), and product descriptions should induce appeal (\"really chic\", \"carbon-neutral band\").\\n   - Place a heavy emphasis on newness and upgrades, signaling to your audience that this content is timely and relevant. \\n\\n2. Tone and Emotional Engagement:\\n   - Project enthusiasm and excitement in the language usage. Words like \\'officially\\', \\'obsessed\\', and \\'beautiful\\' convey strong, positive emotions.\\n   - Use anticipatory language to generate suspense and keep the audience hooked, such as \"let\\'s unbox it together\" or \"let\\'s upgrade\". \\n   - Juxtapose new products against older ones to create a sense of progression and evolution. Talking about removing an older model and mentioning the upgrades also involves emotional engagement by creating anticipation and intrigue about what\\'s new.\\n   \\n3. Engagement and Interaction:\\n   - Include specific calls to action throughout the content; this could be in the form of phrases like \"let\\'s unbox it together\", indicating an action being done together with the viewer. \\n   - Incorporate questions or suggestions for future content to engage viewers. Use statements like \"let me know if, in the next video, you want me to…\", prompting viewers to interact and look forward to future content. \\n   - Constantly reference back to the audience throughout the content, with statements like \"let\\'s discuss\" and \"we\\'ve got\", to maintain the interaction and engagement of the audience. Reiterate the invitation for communication and common learning. \\n   - Use statements like \"We\\'ve gotta chat\" as an element of surprise or curiosity that will hold audience attention until the end.\\n   - Endeavor to offer content with variety—\"a little bit of variety\"—to cater to different tastes and needs within your audience group.'"
      ]
     },
     "execution_count": 26,
     "metadata": {},
     "output_type": "execute_result"
    }
   ],
   "source": [
    "generate_specific_content_guidelines(transcript_text)"
   ]
  },
  {
   "cell_type": "markdown",
   "id": "fb479203",
   "metadata": {},
   "source": [
    "# 2. Attempt doing everything in one go"
   ]
  },
  {
   "cell_type": "code",
   "execution_count": 23,
   "id": "92ed3477",
   "metadata": {},
   "outputs": [],
   "source": [
    "# Parameters: Transcripts and their speech lengths, News Summary\n",
    "transcripts = [\n",
    "    (\"A disease 10 times more contagious than Covid is sweeping Europe and outbreaks are also appearing in America. There's been a 30-fold increase in cases in Europe, that was in 2023, with 21,000 hospitalisations. The disease is measles and it's spreading because not enough people are getting vaccinated, according to doctors.\", 24),\n",
    "    (\"The president of one of the top universities in the world has been forced to resign after being accused of plagiarism. Claudine Gay at Harvard either didn't use the right quotation marks or didn't give the right credits in her work. She also faced a massive backlash for the way Harvard responded to anti-semitism on campus.\", 21),\n",
    "    (\"Donald Trump didn't just win this first vote in his bid to become president again. It was an absolute landslide. More than half the Republicans in Iowa who voted, voted for him. And that's unprecedented in a caucus as they're called. It was probably one of the most astonishing comebacks in American political history.\", 21),\n",
    "]\n",
    "news_summary = \"China's banks offer red envelopes to encourage retirement savings: China's banks are offering red envelopes filled with cash to customers who register for private-pension accounts, as part of a push to get citizens thinking about retirement. Under a law introduced last November, workers may set aside savings in tax-deferred accounts accessible upon retirement. Savers can deduct contributions from taxable income, pay no tax on capital gains, and only a 3% tax rate at the time of distribution. Concerns about the failing private pension system in China: Chinese workers retire young, as early as 50 for women and 60 for men. China's compulsory basic pension will be in deficit by 2028 and run out entirely by 2035. The value of China's private pensions is estimated to reach at least $1.7 trillion by 2025. However, the current pension system is facing challenges in getting people to save and invest their funds. Challenges and issues with China's pension system: Banks have struggled to get customers to actually save and invest in pension accounts. In March, fewer than one-third of accounts contained funds. Some of the problems facing the pension system include lack of awareness among workers, the perception of financial markets as risky, and limited investment options within China's domestic economy. The future outlook for China's private pension system: Pension pots in China cannot be invested offshore, limiting their ability to escape a weak domestic economy. The government is expected to raise the retirement age, further delaying when savers can gain access to their investments. The failing private pension system adds to the list of challenges for Chinese policymakers.\""
   ]
  },
  {
   "cell_type": "markdown",
   "id": "5c55536d",
   "metadata": {},
   "source": [
    "### Attempt 1"
   ]
  },
  {
   "cell_type": "code",
   "execution_count": 22,
   "id": "e3aa3ef0",
   "metadata": {},
   "outputs": [],
   "source": [
    "# Attempt 1\n",
    "\n",
    "def generate_prompt_1(transcripts, news_summary):\n",
    "    prompt_text = f\"\"\"\n",
    "    Objective: Learn how someone speaks with all their nuanced style from provided transcripts and then use these learnings to generate a transcript in that person's style from a provided news article summary.\n",
    " \n",
    "    Learn the following from the provided transcripts:\n",
    "    - Tone: The overall attitude or emotional tone\n",
    "    - Style: Any particular style or rhetorical devices used\n",
    "    - Vocabulary preference: The choice of words & jargon\n",
    "    - Sentiment: General view or attitudes towards topics\n",
    "    \n",
    "    Once you have learned and extracted all the data above, use this information to mimic the person and generate a transcript of the given news summary\n",
    "\n",
    "    This is the transcript to learn the tone, style, vocabularyl preference, and sentiment: {transcripts}\n",
    "    This is the news summary: {news_summary}\"\"\"\n",
    "\n",
    "    return prompt_text\n"
   ]
  },
  {
   "cell_type": "code",
   "execution_count": 29,
   "id": "58919113",
   "metadata": {},
   "outputs": [
    {
     "name": "stdout",
     "output_type": "stream",
     "text": [
      "ChatCompletion(id='chatcmpl-8spR1t8KHHX8H09gwGkh8wgcpqxvO', choices=[Choice(finish_reason='stop', index=0, logprobs=None, message=ChatCompletionMessage(content=\"The headlines coming out of China are rather grim, to put it lightly. There's a pension crisis that is hanging over the Chinese economy that's threatening to burst and banks seem to be scrambling to delay the inevitable disaster. They're quite literally enticing folks to save up for retirement by filling red envelopes with a financial jolt. Does that sound strange to you? It certainly does to me!\\n\\nBack in November, China introduced a law where workers can conveniently tuck away their money in tax-deferred accounts designed for retirement, a sort of nest egg that can be accessed as they put their work boots down. The not-so-sweet cherry on top? You're able to deduct these savings from taxable income, enjoy the fruits of capital gains tax-free, and all one would feel is a 3% tax pinch during distribution. Sounds superb! Except, well, it's not.\\n\\nHere's some cold truth: Chinese workers clock out of labor force quite early. It seems you can still be a spring chicken and be a retiree in China - we're talking about a ripe age of 50 for women and 60 for men. Now, here's where the pieces start to fall - their requisite basic pension is scheduled to plunge into a financial abyss by 2028 and vanish completely within the next decade. That's right, by 2035, there will be no compulsory basic pension!\\n\\nEven though analysts are projecting that China's private pensions will amass a giant wad of at least $1.7 trillion by 2025, it feels like they forgot to count the looming iceberg in their cruise route. The current system is grappling intense challenges to coax people to nest away their funds where they can grow. Presently, less than a third of pension accounts have funds in them - shocking!\\n\\nAnd why is this happening? Well, the primary culprits are lack of awareness amongst the workforce, a hearty skepticism about the mercurial nature of financial markets, and the paucity of investment opportunities within the domestic economy. Furthermore, the government has conveniently hemmed in the pension pots, forbidding their tokens to be deployed offshore, really confining their growth potential amidst a weakening domestic economy.\\n\\nThe Chinese government also seems to be working on a little plan of their own, which, fingers crossed, doesn't play out disastrously. Intent on pushing back the retirement age, this move could bewilder savers and add to the growing list of complications for Chinese policymakers. As it stands, it seems the failing private pension system is emerging as another complex puzzle in the long list of challenges for China. Strap in, this is going to be quite the economic roller coaster.\", role='assistant', function_call=None, tool_calls=None))], created=1708078119, model='gpt-4-0613', object='chat.completion', system_fingerprint=None, usage=CompletionUsage(completion_tokens=538, prompt_tokens=690, total_tokens=1228))\n"
     ]
    }
   ],
   "source": [
    "# Generating the prompt with parameters\n",
    "prompt_text_1 = generate_prompt_1(transcripts, news_summary)\n",
    "\n",
    "# Sending the prompt to the OpenAI API correctly\n",
    "response = client.chat.completions.create(\n",
    "    model=\"gpt-4\",\n",
    "    messages=[{\"role\": \"user\", \"content\": prompt_text_1}],\n",
    ")\n",
    "\n",
    "# Printing the response correctly\n",
    "print(response)"
   ]
  },
  {
   "cell_type": "markdown",
   "id": "9e777a87",
   "metadata": {},
   "source": [
    "### Attempt 2"
   ]
  },
  {
   "cell_type": "code",
   "execution_count": 33,
   "id": "7755f1b5",
   "metadata": {},
   "outputs": [],
   "source": [
    "def generate_prompt_2(transcripts, news_summary):\n",
    "    # Constructing the transcript part of the prompt\n",
    "    transcript_section = \"\\n\\n\".join([\n",
    "        f\"Example {index + 1}: {text} Speech length: {length} seconds\"\n",
    "        for index, (text, length) in enumerate(transcripts)\n",
    "    ])\n",
    "\n",
    "    prompt_text = f\"\"\"\n",
    "    Objective: Learn how someone speaks with all their nuanced style from provided transcripts and then use these learnings to generate a transcript in that person's style from a provided news article summary.\n",
    " \n",
    "    Step 1: Analyze the provided transcripts carefully to learn and extract the following:\n",
    "    - Tone: The overall attitude or emotional tone\n",
    "    - Style: Any particular style or rhetorical devices used\n",
    "    - Vocabulary preference: The choice of words & jargon\n",
    "    - Sentiment: General view or attitudes towards topics\n",
    "    - Emotional Tone\n",
    "    - Use of idioms\n",
    "    \n",
    "    Step 2:\n",
    "    Based Step 1, develop metrics for each element you have learned in order for these metrics to be used and assist in mimicking the person’s style when generating a new transcript.\n",
    "    \n",
    "    Step 3: Use the speech length provided {transcript_section}  to calculate the words per minute (WPM)\n",
    "    \n",
    "    Step 4: Use the learnings from Step 1 combined with the WPM (speech speed) to mimic the person and generate a transcript of the given news summary, but ensure that the length of the generated summary is similar to the example transcripts and consider the calculated WPM.\n",
    "\n",
    "    This is the transcript to learn the tone, style, vocabularyl preference, and sentiment: {transcripts}\n",
    "    This is the news summary: {news_summary}\"\"\"\n",
    "\n",
    "    return prompt_text\n",
    "\n"
   ]
  },
  {
   "cell_type": "code",
   "execution_count": 37,
   "id": "e1c554e9",
   "metadata": {},
   "outputs": [
    {
     "name": "stdout",
     "output_type": "stream",
     "text": [
      "ChatCompletion(id='chatcmpl-8spbKpk7H6KoRXe5mnrzhoANfjrMF', choices=[Choice(finish_reason='stop', index=0, logprobs=None, message=ChatCompletionMessage(content='Based on the tone, style, and vocabulary preference observed in the transcripts, the generated news summary in the speaker\\'s style might be as follows:\\n\\n\"Chinese banks aren\\'t just giving their customers a pat on the back for thinking about their golden years. No, indeed. They are offering red envelopes stuffed with cash to people who register for their private-pension accounts. You heard that right – free cash. Introduced last November under a new law, workers can now squirrel away savings in tax-deferred accounts only to be opened upon retirement.**\\n\\n\"Looking at the retirement scene in China, it\\'s not a leisurely walk in the park. Picture this: Chinese workers logging off as early as their fifties for women and sixties for men. But with the ever-decreasing basic pension making a nosedive by 2028 and hitting rock bottom in 2035, the scenario is dire. Now, the value of these private pensions is expected to skyrocket to a staggering $1.7 trillion by 2025. But the current system seems to be wheezing and sputtering rather than racing ahead.\\n\\n\"The reality is, Chinese banks are having a tough time getting customers to pour their hard-earned money into these accounts. Come March, fewer than one-third of these accounts saw any money whatsoever. It appears that a dearth of awareness, a splash of risk perception, and a pinch of limited investment within China\\'s own economy are some of the stumbling blocks that the pension system is struggling to remove.\\n\\n\"Now, if you’re hoping to break free and invest offshore, well, bad news folks. Investments of pension pots offshore isn’t allowed, effectively caging them into an economy that\\'s staggering rather than sprinting. So, the government\\'s answer to this pension conundrum? Well, they plan to defer access to retirement savings. Yes, you heard it right, they\\'re raising the retirement age. Just another add-on to the mounting challenges facing the Chinese policymakers. So here’s a question for you: What’s your game plan for retirement?\" \\n\\nTotal length: 1 minute and 27 seconds', role='assistant', function_call=None, tool_calls=None))], created=1708078758, model='gpt-4-0613', object='chat.completion', system_fingerprint=None, usage=CompletionUsage(completion_tokens=427, prompt_tokens=1034, total_tokens=1461))\n"
     ]
    }
   ],
   "source": [
    "# Generating the prompt with parameters\n",
    "prompt_text_2 = generate_prompt_2(transcripts, news_summary)\n",
    "\n",
    "# Sending the prompt to the OpenAI API correctly\n",
    "response = client.chat.completions.create(\n",
    "    model=\"gpt-4\",\n",
    "    messages=[{\"role\": \"user\", \"content\": prompt_text_2}],\n",
    ")\n",
    "\n",
    "# Printing the response correctly\n",
    "print(response)"
   ]
  },
  {
   "cell_type": "markdown",
   "id": "b632d933",
   "metadata": {},
   "source": [
    "### Attempt 3"
   ]
  },
  {
   "cell_type": "code",
   "execution_count": 35,
   "id": "534b0893",
   "metadata": {},
   "outputs": [],
   "source": [
    "\n",
    "def generate_prompt_3(transcripts, news_summary):\n",
    "    # Constructing the transcript part of the prompt\n",
    "    transcript_section = \"\\n\\n\".join([\n",
    "        f\"Example {index + 1}: {text} Speech length: {length} seconds\"\n",
    "        for index, (text, length) in enumerate(transcripts)\n",
    "    ])\n",
    "\n",
    "    prompt_text = f\"\"\"\n",
    "    I want you to understand our objective and to critically analyze our prompt below and then enhance the prompt for use with ChatGPT 4.\n",
    "\n",
    "    The prompt should be very clear, succinct, and not ambiguous, and detailed enough to reach our objective.  These are the high-level steps we are considering:\n",
    "    1) Look at the example transcripts provided\n",
    "    2) Read the transcripts carefully and learn all the speaking patterns\n",
    "    3) Use metrics to also learn and provide a score for each metric that is relevant\n",
    "    4) Then use the learnings and metrics that came from the leanings to generate a text of [certain length] on a new provided topic as if the person in the example transcripts spoke these words\n",
    "    5) Then re-evaluate your generated output based on the original input examples and learned metrics to provide a score on how close it is to the original person’s style of speaking\n",
    "\n",
    "    Below is our prompt:\n",
    "    \n",
    "    Objective: Learn how someone speaks with all their nuanced style from provided transcripts and then use these learnings to generate a transcript in that person's style from a provided news article summary.\n",
    " \n",
    "    Step 1: Analyze the provided transcripts carefully to learn and extract the following:\n",
    "    - Tone: The overall attitude or emotional tone\n",
    "    - Style: Any particular style or rhetorical devices used\n",
    "    - Vocabulary preference: The choice of words & jargon\n",
    "    - Sentiment: General view or attitudes towards topics\n",
    "    - Emotional Tone\n",
    "    - Use of idioms\n",
    "    \n",
    "    Step 2:\n",
    "    Based Step 1, develop metrics for each element you have learned in order for these metrics to be used and assist in mimicking the person’s style when generating a new transcript.\n",
    "    \n",
    "    Step 3: Use the speech length provided {transcript_section}  to calculate the words per minute (WPM)\n",
    "    \n",
    "    Step 4: Use the learnings from Step 1 combined with the WPM (speech speed) to mimic the person and generate a transcript of the given news summary, but ensure that the length of the generated summary is similar to the example transcripts and consider the calculated WPM.\n",
    "\n",
    "    This is the transcript to learn the tone, style, vocabularyl preference, and sentiment: {transcripts}\n",
    "    This is the news summary: {news_summary}\"\"\"\n",
    "\n",
    "    return prompt_text\n"
   ]
  },
  {
   "cell_type": "code",
   "execution_count": 36,
   "id": "69a2810e",
   "metadata": {},
   "outputs": [
    {
     "name": "stdout",
     "output_type": "stream",
     "text": [
      "ChatCompletion(id='chatcmpl-8sparRBrAL5mr59bIhYP2e0yqZTOX', choices=[Choice(finish_reason='stop', index=0, logprobs=None, message=ChatCompletionMessage(content=\"Objective: Replicate the speaking style from provided transcripts and generate a replica speech on a different topic incorporating the learned style, tone, word preferences, sentiment, usage of idioms, and the spoken speed.\\n\\nPhase One: Delve into the provided transcripts to understand and identify the speaking style of the individual. Pay specific attention to elements such as:\\n- The sentimental tone and emotional undercurrent.\\n- A preferred selection of words, diction, and the usage of particular jargon.\\n- The overall rhetorical devices and stylistic techniques used.\\n- Viewpoint and outlook regarding various issues.\\n- Idiomatic usage and unique phrases.\\n\\nPhase Two: Based on the insights gathered in phase one, generate a set of metrics for each identified aspect. This will aid in the replication of the person’s speaking style during the transcript generation process.\\n\\nPhase Three: Carefully evaluate the length of the provided speeches; Example 1 speaks on a contagious disease sweeping Europe and America, lasting for 24 seconds. Example 2 covers the resignation of a university president over plagiarism accusations, lasting for 21 seconds. Example 3 reflects on Donald Trump's landslide victory in the first primary voting round, also lasting for 21 seconds. Use this data to calculate the words per minute rate (WPM), to be used in the new speech.\\n\\nPhase Four: Utilize the identified speaking characteristics and calculated WPM to generate a new transcript based on a provided news summary. Ensure that the generated speech maintains the person’s speaking style, aligns with the established metrics, and is compatible with the WPM of the original transcripts.\\n\\nTranscripts to evaluate for tone, style, vocabulary preferences, and sentiment are: \\n1. An alarming speech of 24 seconds on a disease far more contagious than Covid wreaking havoc on Europe and America. \\n2. The 21-second discussion on the forced resignation of a world-famous university president over plagirism claims. \\n3. Another 21-second transcript on Donald Trump's surprising return to electoral politics with a landslide first primary victory.\\n\\nNews digest to base the new speech on: \\nChina's banking sector is taking a unique approach to encourage citizen involvement in private-pension accounts. Red envelopes, traditionally symbolizing good luck and celebration, containing cash are being distributed to incentivize registration for these accounts. A relatively recent law enacted last November allows employees to save their after-tax income in these tax-deferred accounts, which are accessible upon retirement. Challenges ahead for the Chinese Private Pension system: Early retirements are common in China, with women retiring at 50 and men at 60. Predictions for the basic compulsory pension show a deficit by 2028, depleting entirely by 2035. Contrarily, the potential value of private pensions is estimated to skyrocket to nearly $1.7 trillion by 2025. However, encouraging people to save and invest in these funds proves to be a daunting challenge. Furthermore, limited investment options within China's economy and a general lack of awareness among workers compound these difficulties. Despite these obstacles, changes are on the horizon. Government talks of raising the retirement age might delay access to these investments, contributing further to the long list of policy challenges the Chinese government faces.\", role='assistant', function_call=None, tool_calls=None))], created=1708078729, model='gpt-4-0613', object='chat.completion', system_fingerprint=None, usage=CompletionUsage(completion_tokens=647, prompt_tokens=1231, total_tokens=1878))\n"
     ]
    }
   ],
   "source": [
    "# Generating the prompt with parameters\n",
    "prompt_text_3 = generate_prompt_3(transcripts, news_summary)\n",
    "\n",
    "# Sending the prompt to the OpenAI API correctly\n",
    "response = client.chat.completions.create(\n",
    "    model=\"gpt-4\",\n",
    "    messages=[{\"role\": \"user\", \"content\": prompt_text_3}],\n",
    ")\n",
    "\n",
    "# Printing the response correctly\n",
    "print(response)"
   ]
  },
  {
   "cell_type": "markdown",
   "id": "b6b9000b",
   "metadata": {},
   "source": [
    "### Attempt 4"
   ]
  },
  {
   "cell_type": "code",
   "execution_count": 38,
   "id": "65beb2e7",
   "metadata": {},
   "outputs": [],
   "source": [
    "def generate_prompt_4(transcripts, news_summary):\n",
    "    # Constructing the transcript part of the prompt\n",
    "    transcript_section = \"\\n\\n\".join([\n",
    "        f\"Example {index + 1}: {text} Speech length: {length} seconds\"\n",
    "        for index, (text, length) in enumerate(transcripts)\n",
    "    ])\n",
    "    \n",
    "    # Including the news summary in the prompt\n",
    "    prompt_text = f\"\"\"\n",
    "    Objective: To analyze provided example transcripts for speaking patterns and stylistic features, generate new text on a given topic as if spoken by the person from the transcripts, and evaluate the generated text against the learned patterns and metrics.\n",
    " \n",
    "    Step 1: Preparation\n",
    "    Receive example transcripts of a person speaking on various topics.\n",
    "    Given topics for new text generation.\n",
    "    \n",
    "    Step 2: Analysis of Transcripts\n",
    "    Read through the example transcripts to identify and understand the speaker's unique speaking patterns, style, tone, and other distinguishable features.\n",
    "    Catalogue Speaking Patterns: Note the use of specific phrases, vocabulary, idiomatic expressions, sentence structure, and tone.\n",
    "    Calculate the words per minute (WPM) from the given speech length.\n",
    "    Ensure you do the math step by step to ensure accuracy.\n",
    "    \n",
    "    Step 3: Metric-Based Learning\n",
    "    Utilize the following metrics to analyze the transcripts quantitatively and qualitatively:\n",
    "    Lexical Diversity and Richness (Type-Token Ratio, MTLD)\n",
    "    Average Sentence and Word Length\n",
    "    Tone Analysis (Sentiment: Positive, Negative, Neutral; Emotion Detection)\n",
    "    Frequency of Rhetorical Questions, Exclamations, Idiomatic Expressions\n",
    "    Use of Specific Grammatical Structures (Active vs. Passive Voice, Conditional Sentences)\n",
    "    N-gram Frequency Analysis for Preferred Phrases\n",
    "    Topic Modeling for Subject Matter Preference\n",
    "    Readability Scores to Determine Complexity Level\n",
    "    Stylistic Fingerprints (Unique Usage of Adjectives, Adverbs)\n",
    "    Provide a Score for Each Metric based on the analysis to quantify the speaking style.\n",
    "    \n",
    "    Step 4: Text Generation\n",
    "    Generate New Text on a provided topic, aiming to replicate the identified speaking patterns, style, and metrics.\n",
    "    The text should be [specify length] in length, ensuring it is comprehensive enough to cover the topic effectively while mirroring the original speaking style.\n",
    "    \n",
    "    Step 5: Evaluation of Generated Text\n",
    "    Re-evaluate the generated text using the same metrics to assess how closely it aligns with the original person's style.\n",
    "    Provide a Comparative Score for each metric, comparing the original transcripts with the generated text to identify areas of high fidelity and any discrepancies.\n",
    "    \n",
    "    Deliverables:\n",
    "    A detailed analysis report outlining the findings from the transcript analysis, including scores for each metric.\n",
    "    The generated text on the new topic, designed to mimic the original speaking style.\n",
    "    An evaluation report of the generated text, including comparative scores and areas for improvement.\n",
    "    \n",
    "    Instructions for ChatGPT:\n",
    "    Ensure that the analysis and generation processes are transparent, providing insights into how decisions were made based on the metrics.\n",
    "    Highlight any challenges or limitations encountered during the text generation process.\n",
    "    Offer suggestions for refining the approach to better capture the original speaking style in future attempts.\n",
    "\n",
    "    This is the transcript to learn the tone, style, vocabularyl preference, and sentiment: {transcripts}\n",
    "    This is the information regarding the speech length: {transcript_section}\n",
    "    This is the news summary: {news_summary}\"\"\"\n",
    "\n",
    "    return prompt_text\n"
   ]
  },
  {
   "cell_type": "code",
   "execution_count": 39,
   "id": "8778ce22",
   "metadata": {},
   "outputs": [
    {
     "name": "stdout",
     "output_type": "stream",
     "text": [
      "ChatCompletion(id='chatcmpl-8spefyoAy0G03HWAyzYybAwVKkbRo', choices=[Choice(finish_reason='stop', index=0, logprobs=None, message=ChatCompletionMessage(content='Step 2: Analysis of Transcripts \\n\\nAfter carefully reviewing the example transcripts provided, some notable speaking patterns and features have been identified. The speaker supplies specifics and facts to build a picture - it\\'s a journalistic style that seems neutral and dedicated to offering accurate information. The speaker often refers to data such as the quantity, the number of cases, votes, and the sequence of events/happenings.\\n\\nThe speaker uses simple but effective vocabulary, without complicated jargon or overly descriptive language. Sentence structures are primarily straightforward and declarative, although rhetorical questions are occasionally employed to challenge the audience or prompt thought (“It was probably one of the most astonishing comebacks in American political history, wasn\\'t it?”). \\n\\nTone-wise, the speaker adopts an informative and slightly urgent tone, likely to engage the audience and convey the seriousness and importance of the information discussed. Use of certain expressions reveals emotion, without straying from a neutral delivery style.\\n\\nWords per minute (WPM) calculations from the given speech length:\\nExample 1: \"A disease 10 times more...\" = 75 words in 24 seconds = Approximately 187.5 WPM\\nExample 2: \"The president of one of the...\" = 54 words in 21 seconds = Approximately 154.3 WPM\\nExample 3: \"Donald Trump didn\\'t just win...\" = 49 words in 21 seconds = Approximately 140 WPM\\n\\nThe average speech rate of the speaker is around 160 WPM.\\n\\nStep 3: Metric-Based Learning\\nApplying the various metrics listed can reveal more about the speaker’s style:\\n\\n1. Lexical Diversity and Richness: The speaker likely scores high for lexical diversity, employing a range of vocabulary, albeit set within a standard English repertoire for the intended audience.\\n2. Average Sentence and Word Length: Short to medium length sentences and words are preferred, aligned with the need for comprehension and recall by a lay audience.\\n3. Tone Analysis: The overall tone is neutral, although eliciting slight hints of urgency where context permits.\\n4. Use of Idiomatic Expressions: Limited use, favouring more direct and clear language. \\n5. Use of Specific Grammatical Structures: Active voice is predominant, aligning with the need for clarity and directness of message.\\n\\nA numerical score and rating can now be applied to each of these metrics to provide a quantitative measure of these observed patterns. This can serve as the basis for creating text that approximates the speaker\\'s style in the next step.\\n\\nStep 4: Text Generation\\nBased on the observed patterns and numerical ratings, I will now generate a text that mimics the speaker’s style, based on the summary given about China\\'s pension system:\\n\\n\"China\\'s pension crisis is looming, with banks resorting to incentivising customers with red envelopes brimmed with cash. This comes in an attempt to boost retirement savings, which have been unnervingly dormant. A law implemented as recently as last November seeks to help workers sequester savings into retirement accounts with tax benefits. But here\\'s the thing - Chinese workers are retiring relatively early. 50 for women and 60 for men, to be exact. So, by the time 2028 rolls around, China\\'s foundational pension system could be under grave threat, predicted to dry up completely just seven years later. The challenges are far from trivial, and the impacts might be globally resonant if China\\'s pension value hits the anticipated $1.7 trillion mark by 2025.\"\\n\\nThe generated text reflects the same rhythm of narrative, usage of facts and figures, and the subtle emotional undertone.\\n\\nStep 5: Evaluation of Generated Text \\nComparing the generated text with original scripts, we can see a close alignment in length, tone and construction. The adherence to the metric ratings is observable as a high fidelity to the speaker\\'s original style. However, a detailed comparison can only be confirmed by recalculating the metric scores for the new text and comparing quantitatively. \\n\\nDeliverables:\\n1. An analysis report showing the findings from the transcript analysis, including scores for each metric.\\n2. Generated text on the new topic - China\\'s failing pension system, emulating the original speaker\\'s style.\\n3. Evaluation report of the generated text, indicating comparison scores and pointers for even better alignment.', role='assistant', function_call=None, tool_calls=None))], created=1708078965, model='gpt-4-0613', object='chat.completion', system_fingerprint=None, usage=CompletionUsage(completion_tokens=872, prompt_tokens=1382, total_tokens=2254))\n"
     ]
    }
   ],
   "source": [
    "prompt_text_4 = generate_prompt_4(transcripts, news_summary)\n",
    "\n",
    "# Sending the prompt to the OpenAI API correctly\n",
    "response = client.chat.completions.create(\n",
    "    model=\"gpt-4\",\n",
    "    messages=[{\"role\": \"user\", \"content\": prompt_text_4}],\n",
    ")\n",
    "\n",
    "# Printing the response correctly\n",
    "print(response)"
   ]
  },
  {
   "cell_type": "markdown",
   "id": "68608578",
   "metadata": {},
   "source": [
    "### Final Version"
   ]
  },
  {
   "cell_type": "code",
   "execution_count": 65,
   "id": "4fd2e2f1",
   "metadata": {},
   "outputs": [],
   "source": [
    "def word_counter(sample_text):\n",
    "    text_length = len(sample_text.split())\n",
    "    return text_length"
   ]
  },
  {
   "cell_type": "code",
   "execution_count": 69,
   "id": "4bec7456",
   "metadata": {},
   "outputs": [],
   "source": [
    "transcripts = {\n",
    "1 : [\"A disease 10 times more contagious than Covid is sweeping Europe and outbreaks are also appearing in America. There's been a 30-fold increase in cases in Europe, that was in 2023, with 21,000 hospitalisations. The disease is measles and it's spreading because not enough people are getting vaccinated, according to doctors.\"],\n",
    "2: [\"The president of one of the top universities in the world has been forced to resign after being accused of plagiarism. Claudine Gay at Harvard either didn't use the right quotation marks or didn't give the right credits in her work. She also faced a massive backlash for the way Harvard responded to anti-semitism on campus.\"],\n",
    "3: [\"Donald Trump didn't just win this first vote in his bid to become president again. It was an absolute landslide. More than half the Republicans in Iowa who voted, voted for him. And that's unprecedented in a caucus as they're called. It was probably one of the most astonishing comebacks in American political history.\"]\n",
    "} "
   ]
  },
  {
   "cell_type": "code",
   "execution_count": 68,
   "id": "171ec674-cbcf-4718-8e76-abff3a2a1849",
   "metadata": {},
   "outputs": [],
   "source": [
    "def generate_prompt_final(transcripts, news_summary):\n",
    "    for key, value in transcripts.items():\n",
    "        transcripts[key] = [value[0], word_counter(value[0])]\n",
    "    \n",
    "    # Including the news summary in the prompt\n",
    "    prompt_text = f\"\"\"\n",
    "    Objective\n",
    "    To analyze provided example transcripts for speaking patterns and stylistic features, generate new text on a given topic as if spoken by the person from the transcripts, and evaluate the generated text against the learned patterns and metrics, ensuring alignment with dynamic speech timing.\n",
    "    Step 1: Preparation\n",
    "    • Receive example transcripts of a person speaking on various topics.\n",
    "    • Given topics for new text generation.\n",
    "    Step 2: Analysis of Transcripts\n",
    "    • Identify and understand the unique speaking patterns, style, tone, and features of the speaker.\n",
    "    • Catalogue speaking patterns including specific phrases, vocabulary, idiomatic expressions, sentence structure, and tone. Here are the trancripts:\n",
    "    {transcripts}\n",
    "    Step 3: Calculation of Dynamic Target Word Count\n",
    "    • Calculate the Words Per Minute (WPM) for each transcript.\n",
    "    • Determine the average WPM across all provided examples.\n",
    "    • Based on the average WPM, calculate the target word count for the new text, aiming for a specific speech length (e.g., 22 seconds), making the \"Clear Target Word Count\" dynamic and adaptable.\n",
    "    • Ensure you do the math step by step to ensure accuracy.\n",
    "    Step 4: Metric-Based Learning\n",
    "    • Use detailed metrics (Lexical Diversity, Sentence Length, Tone Analysis, etc.) to quantitatively and qualitatively analyze the transcripts.\n",
    "    • Provide scores for each metric to quantify the speaking style.\n",
    "    Step 5: Text Generation\n",
    "    •\tGenerate three unique and dynamic new texts on the provided topic, ensuring each matches the identified speaking patterns, style, and metrics and fits within the dynamically calculated target word count for the specified speech length. Use clear markers to delineate each generated text for easy extraction. \n",
    "    •\tPlease mark each generated text with the following markers for easy extraction:\n",
    "    •\tFor the first text, use \"---Generated Text 1 Start---\" and \"---Generated Text 1 End---\".\n",
    "    •\tFor the second text, use \"---Generated Text 2 Start---\" and \"---Generated Text 2 End---\".\n",
    "    •\tFor the third text, use \"---Generated Text 3 Start---\" and \"---Generated Text 3 End---\".\n",
    "\n",
    "    \n",
    "    News Summary:\n",
    "    {news_summary}\n",
    "    \n",
    "    Please mark each generated text with clear separators for easy identification and extraction.\n",
    "    \"\"\"\n",
    "    return prompt_text\n",
    "\n"
   ]
  },
  {
   "cell_type": "code",
   "execution_count": 70,
   "id": "be5062e5",
   "metadata": {},
   "outputs": [],
   "source": [
    "# Generating the prompt with parameters\n",
    "prompt_text_final = generate_prompt_final(transcripts, news_summary)"
   ]
  },
  {
   "cell_type": "code",
   "execution_count": 71,
   "id": "b8abfb29",
   "metadata": {},
   "outputs": [],
   "source": [
    "import openai"
   ]
  },
  {
   "cell_type": "code",
   "execution_count": 72,
   "id": "e60ac430",
   "metadata": {},
   "outputs": [
    {
     "name": "stdout",
     "output_type": "stream",
     "text": [
      "ChatCompletion(id='chatcmpl-8swoj2PKJUp9LeqtwZKHwieqcla61', choices=[Choice(finish_reason='stop', index=0, logprobs=None, message=ChatCompletionMessage(content='Step 1: Preparation\\nThe topics given for new text generation pertains to China\\'s pension system, its issues, and the strategies employed by Chinese banks to encourage retirement savings.\\n\\nStep 2: Analysis of Transcripts\\nThe speaker uses a reportage style of speaking and provides a clear, concise summary of the news event. He exhibits a storytelling style, setting a context to the news, discussing the problems, and then talking about the consequences or future implications. His choice of words is simple and direct, using active voice and present tense.\\n\\nStep 3: Calculation of Dynamic Target Word Count\\nThe Words Per Minute (WPM) for each transcript are as follows:\\n• Transcript 1: 51 WPM\\n• Transcript 2: 56 WPM\\n• Transcript 3: 54 WPM\\n \\nThe average WPM is: (51+56+54)/3 = 53.67 WPM\\nFor a speech length of 22 seconds, the target word count would be: 53.67 WPM * 22/60 = 19.9 words ≈ 20 words.\\n\\nStep 4: Metric-Based Learning\\nBased on the metrics used in the spoken transcripts, the speaker\\'s average sentence length is around 11 words, Lexical Diversity is relatively high and the tone is mostly neutral with a slight emphasis on surprise or urgency.\\n\\nStep 5: Text Generation\\n---Generated Text 1 Start---\\n\"China\\'s banks are attempting to raise pension awareness by offering cash-filled red envelopes. However, less than one-third of accounts hold any savings. Major issues they persistently face include the risk perception of markets, lack of investment options domestically and unawareness.\"\\n---Generated Text 1 End---\\n\\n---Generated Text 2 Start---\\n\"Despite China\\'s efforts to improve its failing pension system through tax incentives, many citizens are lacking in participation. The current system, troubled with shortfalls and risks, adds to policymakers’ looming financial problems.\"\\n---Generated Text 2 End---\\n\\n---Generated Text 3 Start---\\n\"China initiates a pension revolution by giving red envelopes as incentives, but struggles with investor participation. Mandatory retirement at an early age and a predicted pension deficit by 2028 add to the existing challenges for China\\'s policymakers.\"\\n---Generated Text 3 End---', role='assistant', function_call=None, tool_calls=None))], created=1708106497, model='gpt-4-0613', object='chat.completion', system_fingerprint=None, usage=CompletionUsage(completion_tokens=463, prompt_tokens=1021, total_tokens=1484))\n"
     ]
    }
   ],
   "source": [
    "# Sending the prompt to the OpenAI API correctly\n",
    "response = client.chat.completions.create(\n",
    "    model=\"gpt-4\",\n",
    "    messages=[{\"role\": \"user\", \"content\": prompt_text_final}],\n",
    ")\n",
    "\n",
    "# Printing the response correctly\n",
    "print(response)"
   ]
  },
  {
   "cell_type": "code",
   "execution_count": 73,
   "id": "9a3fdf9f",
   "metadata": {},
   "outputs": [
    {
     "data": {
      "text/plain": [
       "'Step 1: Preparation\\nThe topics given for new text generation pertains to China\\'s pension system, its issues, and the strategies employed by Chinese banks to encourage retirement savings.\\n\\nStep 2: Analysis of Transcripts\\nThe speaker uses a reportage style of speaking and provides a clear, concise summary of the news event. He exhibits a storytelling style, setting a context to the news, discussing the problems, and then talking about the consequences or future implications. His choice of words is simple and direct, using active voice and present tense.\\n\\nStep 3: Calculation of Dynamic Target Word Count\\nThe Words Per Minute (WPM) for each transcript are as follows:\\n• Transcript 1: 51 WPM\\n• Transcript 2: 56 WPM\\n• Transcript 3: 54 WPM\\n \\nThe average WPM is: (51+56+54)/3 = 53.67 WPM\\nFor a speech length of 22 seconds, the target word count would be: 53.67 WPM * 22/60 = 19.9 words ≈ 20 words.\\n\\nStep 4: Metric-Based Learning\\nBased on the metrics used in the spoken transcripts, the speaker\\'s average sentence length is around 11 words, Lexical Diversity is relatively high and the tone is mostly neutral with a slight emphasis on surprise or urgency.\\n\\nStep 5: Text Generation\\n---Generated Text 1 Start---\\n\"China\\'s banks are attempting to raise pension awareness by offering cash-filled red envelopes. However, less than one-third of accounts hold any savings. Major issues they persistently face include the risk perception of markets, lack of investment options domestically and unawareness.\"\\n---Generated Text 1 End---\\n\\n---Generated Text 2 Start---\\n\"Despite China\\'s efforts to improve its failing pension system through tax incentives, many citizens are lacking in participation. The current system, troubled with shortfalls and risks, adds to policymakers’ looming financial problems.\"\\n---Generated Text 2 End---\\n\\n---Generated Text 3 Start---\\n\"China initiates a pension revolution by giving red envelopes as incentives, but struggles with investor participation. Mandatory retirement at an early age and a predicted pension deficit by 2028 add to the existing challenges for China\\'s policymakers.\"\\n---Generated Text 3 End---'"
      ]
     },
     "execution_count": 73,
     "metadata": {},
     "output_type": "execute_result"
    }
   ],
   "source": [
    "response.choices[0].message.content"
   ]
  },
  {
   "cell_type": "code",
   "execution_count": null,
   "id": "3cdd3f4c",
   "metadata": {},
   "outputs": [],
   "source": []
  }
 ],
 "metadata": {
  "kernelspec": {
   "display_name": "Python 3 (ipykernel)",
   "language": "python",
   "name": "python3"
  },
  "language_info": {
   "codemirror_mode": {
    "name": "ipython",
    "version": 3
   },
   "file_extension": ".py",
   "mimetype": "text/x-python",
   "name": "python",
   "nbconvert_exporter": "python",
   "pygments_lexer": "ipython3",
   "version": "3.10.11"
  }
 },
 "nbformat": 4,
 "nbformat_minor": 5
}
