{
 "cells": [
  {
   "cell_type": "markdown",
   "source": [
    "# Summary test with BART\n",
    "\n",
    "This file contains the procedure we did with:\n",
    "- Web Scrapping -> Newspaper3k\n",
    "- Summary creating -> BART"
   ],
   "metadata": {
    "collapsed": false
   },
   "id": "424c7958f61d460e"
  },
  {
   "cell_type": "code",
   "execution_count": 3,
   "id": "initial_id",
   "metadata": {
    "collapsed": true,
    "ExecuteTime": {
     "end_time": "2024-02-17T17:22:40.823401200Z",
     "start_time": "2024-02-17T17:22:40.429334700Z"
    }
   },
   "outputs": [],
   "source": [
    "from newspaper import Article"
   ]
  },
  {
   "cell_type": "code",
   "execution_count": 2,
   "outputs": [],
   "source": [
    "cnn_microsoft = 'https://edition.cnn.com/2024/01/12/business/apple-microsoft-most-valuable-publicly-traded-company/index.html'\n",
    "fox = 'http://fox13now.com/2013/12/30/new-year-new-laws-obamacare-pot-guns-and-drones/'\n",
    "sky_sports = 'https://www.skysports.com/football/news/11095/13055829/jurgen-klopp-clarifies-mohamed-salahs-liverpool-return-hes-the-most-loyal-egyptian-ive-met' "
   ],
   "metadata": {
    "collapsed": false,
    "ExecuteTime": {
     "end_time": "2024-01-26T12:18:16.654655Z",
     "start_time": "2024-01-26T12:18:16.632601400Z"
    }
   },
   "id": "e2d535f460d78409"
  },
  {
   "cell_type": "code",
   "execution_count": 13,
   "outputs": [],
   "source": [
    "def create_article(url):\n",
    "    article = Article(url)\n",
    "    article.download()\n",
    "    article.parse()\n",
    "    return article"
   ],
   "metadata": {
    "collapsed": false,
    "ExecuteTime": {
     "end_time": "2024-01-26T13:06:23.093299700Z",
     "start_time": "2024-01-26T13:06:23.070137400Z"
    }
   },
   "id": "a165d40a09afdf56"
  },
  {
   "cell_type": "code",
   "execution_count": 14,
   "outputs": [],
   "source": [
    "article = create_article(sky_sports)"
   ],
   "metadata": {
    "collapsed": false,
    "ExecuteTime": {
     "end_time": "2024-01-26T13:06:40.129291700Z",
     "start_time": "2024-01-26T13:06:39.118325500Z"
    }
   },
   "id": "daf3b0f21db410d4"
  },
  {
   "cell_type": "code",
   "execution_count": 15,
   "outputs": [],
   "source": [
    "sinner_dj = 'https://edition.cnn.com/2024/01/26/sport/jannik-sinner-novak-djokovic-australian-open-spt-intl/index.html'\n",
    "article_2 = create_article(sinner_dj)"
   ],
   "metadata": {
    "collapsed": false,
    "ExecuteTime": {
     "end_time": "2024-01-26T13:06:59.215558300Z",
     "start_time": "2024-01-26T13:06:58.325907700Z"
    }
   },
   "id": "6b037eac6c11f890"
  },
  {
   "cell_type": "code",
   "execution_count": 7,
   "outputs": [],
   "source": [
    "from transformers import AutoTokenizer, BartForConditionalGeneration\n",
    "model = BartForConditionalGeneration.from_pretrained(\"facebook/bart-large-cnn\")\n",
    "tokenizer = AutoTokenizer.from_pretrained(\"facebook/bart-large-cnn\")"
   ],
   "metadata": {
    "collapsed": false,
    "ExecuteTime": {
     "end_time": "2024-02-17T17:23:04.659456100Z",
     "start_time": "2024-02-17T17:22:55.130153Z"
    }
   },
   "id": "f27745e35056d6b7"
  },
  {
   "cell_type": "code",
   "execution_count": 16,
   "outputs": [],
   "source": [
    "ARTICLE_TO_SUMMARIZE = (\n",
    "    article_2.text\n",
    ")\n",
    "inputs = tokenizer([ARTICLE_TO_SUMMARIZE], max_length=1024, return_tensors='pt', truncation=True)"
   ],
   "metadata": {
    "collapsed": false,
    "ExecuteTime": {
     "end_time": "2024-01-26T13:07:09.461077400Z",
     "start_time": "2024-01-26T13:07:09.449063Z"
    }
   },
   "id": "b98099c2c527a0bd"
  },
  {
   "cell_type": "code",
   "execution_count": 18,
   "outputs": [
    {
     "data": {
      "text/plain": "\"Novak Djokovic beaten by Jannik Sinner in Australian Open semifinal. Djakovic loses for first time at Melbourne Park in 2,195 days. Sinner, 22, will now contest first grand slam final of his career in Sunday's showpiece. Djokovich's bid for an outright record 25th grand slam title is put on hold after defeat.. Sner is the youngest male finalist at the Australian Open since 2008. He will face either Daniil Medvedev or Alexander Zverev in the final.\""
     },
     "execution_count": 18,
     "metadata": {},
     "output_type": "execute_result"
    }
   ],
   "source": [
    "# Generate Summary\n",
    "summary_ids = model.generate(inputs[\"input_ids\"], num_beams=2, min_length=100, max_length=200)\n",
    "tokenizer.batch_decode(summary_ids, skip_special_tokens=True, clean_up_tokenization_spaces=False)[0]"
   ],
   "metadata": {
    "collapsed": false,
    "ExecuteTime": {
     "end_time": "2024-01-26T13:07:44.350370400Z",
     "start_time": "2024-01-26T13:07:33.234073100Z"
    }
   },
   "id": "a774cd6efe1d424d"
  },
  {
   "cell_type": "markdown",
   "source": [
    "### 3 Different summaries"
   ],
   "metadata": {
    "collapsed": false
   },
   "id": "70f042339e2d208f"
  },
  {
   "cell_type": "code",
   "execution_count": 24,
   "outputs": [],
   "source": [
    "summaries = []\n",
    "for i in range(3):\n",
    "    # Adjusting temperature and top_k for each summary\n",
    "    summary_ids = model.generate(inputs[\"input_ids\"], \n",
    "                                 num_beams=4 + i,  # fixed number of beams\n",
    "                                 temperature=1.0 + (0.3 * i),  # increasing temperature\n",
    "                                 top_k=50 + (20 * i),  # increasing top_k\n",
    "                                 min_length=100, \n",
    "                                 max_length=200, \n",
    "                                 do_sample=True,\n",
    "                                 early_stopping=True)\n",
    "\n",
    "    summary = tokenizer.batch_decode(summary_ids, skip_special_tokens=True, clean_up_tokenization_spaces=False)[0]\n",
    "    summaries.append(summary)"
   ],
   "metadata": {
    "collapsed": false,
    "ExecuteTime": {
     "end_time": "2024-01-26T13:20:41.444797100Z",
     "start_time": "2024-01-26T13:19:49.897018600Z"
    }
   },
   "id": "9e46c1e83c21f471"
  },
  {
   "cell_type": "code",
   "execution_count": 25,
   "outputs": [
    {
     "name": "stdout",
     "output_type": "stream",
     "text": [
      "Novak Djokovic beaten by Jannik Sinner in Australian Open semifinal. Sinner, 22, is youngest man to reach Australian Open final since 2008. Italian will face either Daniil Medvedev or Alexander Zverev in Sunday's showpiece. Djok Serbian has not lost at Australian Open in 2,195 days, 33 matches ago. Back to Mail Online home. back to the page you came from to see the full match. Click here to read the match report.\n",
      "\n",
      "Novak Djokovic beaten by Jannik Sinner in semifinal of Australian Open. Sinner, 22, is youngest male finalist at Melbourne Park since 2008. The Italian will now face either Daniil Medvedev or Alexander Zverev in Sunday's final. It is the first time in 33 matchesDjokovic has lost at the Australian Open in Melbourne. The Serb is bidding for his 11th title and a record 25th grand slam title in all.\n",
      "\n",
      "Novak Djokovic beaten by Italy's Jannik Sinner in Australian Open semis. The 22-year-old Sinner is youngest male finalist at Melbourne Park in 10 years. Sinner will now face either Daniil Medvedev orAlexander Zverev in Sunday's showpiece. Serbian is yet to lose in Melbourne in 33 matches and has lost just one of his last 25 grand slam matches in the competition. He was beaten 6-1 6-2 6-7(6-8) 6-3.\n"
     ]
    }
   ],
   "source": [
    "print(summaries[0])\n",
    "print()\n",
    "print(summaries[1])\n",
    "print()\n",
    "print(summaries[2])"
   ],
   "metadata": {
    "collapsed": false,
    "ExecuteTime": {
     "end_time": "2024-01-26T13:20:44.829903100Z",
     "start_time": "2024-01-26T13:20:44.782847100Z"
    }
   },
   "id": "40e32c1d79cb9359"
  },
  {
   "cell_type": "markdown",
   "source": [
    "### Other approach"
   ],
   "metadata": {
    "collapsed": false
   },
   "id": "e96bbd38d2b242a6"
  },
  {
   "cell_type": "code",
   "execution_count": 26,
   "outputs": [],
   "source": [
    "summaries = []\n",
    "for i in range(3):\n",
    "    summary_ids = model.generate(inputs[\"input_ids\"], \n",
    "                                 num_beams=4 + i,  # Varying number of beams\n",
    "                                 no_repeat_ngram_size=2 + i,  # Preventing repeating n-grams\n",
    "                                 length_penalty=1.0 + (0.1 * i),  # Adjusting length penalty\n",
    "                                 min_length=100, \n",
    "                                 max_length=200, \n",
    "                                 early_stopping=True)\n",
    "\n",
    "    summary = tokenizer.batch_decode(summary_ids, skip_special_tokens=True, clean_up_tokenization_spaces=False)[0]\n",
    "    summaries.append(summary)"
   ],
   "metadata": {
    "collapsed": false,
    "ExecuteTime": {
     "end_time": "2024-01-26T13:22:07.413831Z",
     "start_time": "2024-01-26T13:21:16.263507600Z"
    }
   },
   "id": "da918ac7f59d1a89"
  },
  {
   "cell_type": "code",
   "execution_count": 27,
   "outputs": [
    {
     "name": "stdout",
     "output_type": "stream",
     "text": [
      "Novak Djokovic beaten by Jannik Sinner in Australian Open semifinal. Djakovic loses for first time at Melbourne Park in 2,195 days. Italian will now face either Daniil Medvedev or Alexander Zverev in Sunday's final. The 22-year-old is the youngest male finalist at the tournament since 2008. He has now beaten the Serb in three of their last four matches dating back to November. It is his first grand slam final of his career.\n",
      "\n",
      "Novak Djokovic beaten by Jannik Sinner in Australian Open semifinal. Sinner, 22, is the youngest male finalist at Australian Open since 2008. He will face either Daniil Medvedev or Alexander Zverev in Sunday's showpiece. Djkovic's bid for an outright record 25th grand slam title is put on hold after he was outplayed by the Italian across their three hour, 22-minute contest. The Serb was broken at 2-1 in the fourth set having held a 40-0 lead.\n",
      "\n",
      "Novak Djokovic beaten by Jannik Sinner 6-1 6-2 6-7(6-8) 6-3 in Australian Open semifinal. The 22-year-old Italian will now contest the first grand slam final of his career. Sinner is the youngest male finalist at the Australian Open since Djokovic won the title in 2008. He will face either Daniil Medvedev or Alexander Zverev in Sunday’s showpiece.\n"
     ]
    }
   ],
   "source": [
    "print(summaries[0])\n",
    "print()\n",
    "print(summaries[1])\n",
    "print()\n",
    "print(summaries[2])"
   ],
   "metadata": {
    "collapsed": false,
    "ExecuteTime": {
     "end_time": "2024-01-26T13:22:09.966531900Z",
     "start_time": "2024-01-26T13:22:09.951496700Z"
    }
   },
   "id": "4ff43ac2c6f76cc"
  },
  {
   "cell_type": "code",
   "execution_count": 11,
   "outputs": [],
   "source": [
    "summary_dicc = {\n",
    "    'Summary 1': '',\n",
    "    'Summary 2': '',\n",
    "    'Summary 3': ''\n",
    "}\n",
    "def create_article(url):\n",
    "        article = Article(url)\n",
    "        article.download()\n",
    "        article.parse()\n",
    "        return article\n",
    "def summary_generator(selected_news):\n",
    "    global summary_dicc\n",
    "    \n",
    "    article = create_article(selected_news)\n",
    "    ARTICLE_TO_SUMMARIZE = (\n",
    "    article.text\n",
    "    )\n",
    "    inputs = tokenizer([ARTICLE_TO_SUMMARIZE], max_length=1024, return_tensors='pt', truncation=True)\n",
    "    summaries_ = []\n",
    "    for i in range(3):\n",
    "        summary_ids = model.generate(inputs[\"input_ids\"], \n",
    "                                 num_beams=4 + i,  # fixed number of beams\n",
    "                                 temperature=1.0 + (0.3 * i),  # increasing temperature\n",
    "                                 top_k=50 + (20 * i),  # increasing top_k\n",
    "                                 min_length=100, \n",
    "                                 max_length=200, \n",
    "                                 do_sample=True,\n",
    "                                 early_stopping=True)\n",
    "\n",
    "        summary = tokenizer.batch_decode(summary_ids, skip_special_tokens=True, clean_up_tokenization_spaces=False)[0]\n",
    "        summaries_.append(summary)\n",
    "    \n",
    "    for i, key in enumerate(summary_dicc.keys()):\n",
    "        summary_dicc[key] = summaries_[i]\n",
    "        \n",
    "    return summaries_[0], summaries_[1], summaries_[2]"
   ],
   "metadata": {
    "collapsed": false,
    "ExecuteTime": {
     "end_time": "2024-02-17T17:25:27.698751900Z",
     "start_time": "2024-02-17T17:25:27.663925800Z"
    }
   },
   "id": "609e393603ead256"
  },
  {
   "cell_type": "code",
   "execution_count": 12,
   "outputs": [],
   "source": [
    "x = summary_generator('https://edition.cnn.com/2024/02/02/tech/apple-vision-pro-what-you-need-to-know/index.html')"
   ],
   "metadata": {
    "collapsed": false,
    "ExecuteTime": {
     "end_time": "2024-02-17T17:26:26.626539800Z",
     "start_time": "2024-02-17T17:25:29.806152900Z"
    }
   },
   "id": "a4694072459e45e3"
  },
  {
   "cell_type": "code",
   "execution_count": 13,
   "outputs": [
    {
     "data": {
      "text/plain": "('The Vision Pro, Apple’s first new product in seven years, officially launched in stores on Friday in the US. Retail stores are offering private one-on-one demos on a first come, first served basis. The headset will have 256 GB of storage, and prescription lens inserts for the device will be available starting at $149. Once you factor in additional accessories, like a $200 travel case and $50 battery pack holder and more, it can cost up to $4,600.',\n \"The $3,499 Vision Pro is Apple's first major release since the Apple Watch nine years ago. Retail stores are offering private one-on-one demos on a first come, first served basis. The headset will have 256 GB of storage, and prescription lens inserts for the device will be available starting at $149. Once you factor in additional accessories, like a $200 travel case and $50 battery pack holder and more, it can cost up to $4,600, The New York Times reported.\",\n \"Apple's new mixed reality headset went on sale at Apple Stores across the country on Friday. The Vision Pro combines virtual reality and augmented reality. It costs $3,499 and has 256 GB of storage, and prescription lens inserts for the device will be available starting at $149. The headset tracks the eyes, scans hands and maps the room. Users see an iOS-like interface placed in front of their environment and use the 'select' button to select apps. It's not the cheapest technology in the extended reality market and costs up to $4,600.\")"
     },
     "execution_count": 13,
     "metadata": {},
     "output_type": "execute_result"
    }
   ],
   "source": [
    "x"
   ],
   "metadata": {
    "collapsed": false,
    "ExecuteTime": {
     "end_time": "2024-02-17T17:26:33.423770700Z",
     "start_time": "2024-02-17T17:26:33.417770300Z"
    }
   },
   "id": "4582f0ce0c0776fc"
  }
 ],
 "metadata": {
  "kernelspec": {
   "display_name": "Python 3",
   "language": "python",
   "name": "python3"
  },
  "language_info": {
   "codemirror_mode": {
    "name": "ipython",
    "version": 2
   },
   "file_extension": ".py",
   "mimetype": "text/x-python",
   "name": "python",
   "nbconvert_exporter": "python",
   "pygments_lexer": "ipython2",
   "version": "2.7.6"
  }
 },
 "nbformat": 4,
 "nbformat_minor": 5
}
