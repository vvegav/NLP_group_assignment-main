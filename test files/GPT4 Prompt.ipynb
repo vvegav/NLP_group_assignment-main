{
 "cells": [
  {
   "cell_type": "code",
   "execution_count": 2,
   "metadata": {},
   "outputs": [],
   "source": [
    "from openai import OpenAI"
   ]
  },
  {
   "cell_type": "code",
   "execution_count": 7,
   "metadata": {},
   "outputs": [],
   "source": [
    "import os\n",
    "from openai import OpenAI"
   ]
  },
  {
   "cell_type": "code",
   "execution_count": 11,
   "metadata": {},
   "outputs": [],
   "source": [
    "openai.api_key = os.getenv('API KEY HERE')"
   ]
  },
  {
   "cell_type": "code",
   "execution_count": 8,
   "metadata": {},
   "outputs": [],
   "source": [
    "def generate_prompt(transcripts, news_summary):\n",
    "    # Constructing the transcript part of the prompt\n",
    "    transcript_section = \"\\n\\n\".join([\n",
    "        f\"Example {index + 1}: {text} Speech length: {length} seconds\"\n",
    "        for index, (text, length) in enumerate(transcripts)\n",
    "    ])\n",
    "    \n",
    "    # Including the news summary in the prompt\n",
    "    prompt_text = f\"\"\"\n",
    "    Objective\n",
    "    To analyze provided example transcripts for speaking patterns and stylistic features, generate new text on a given topic as if spoken by the person from the transcripts, and evaluate the generated text against the learned patterns and metrics, ensuring alignment with dynamic speech timing.\n",
    "    Step 1: Preparation\n",
    "    • Receive example transcripts of a person speaking on various topics.\n",
    "    • Given topics for new text generation.\n",
    "    Step 2: Analysis of Transcripts\n",
    "    • Identify and understand the unique speaking patterns, style, tone, and features of the speaker.\n",
    "    • Catalogue speaking patterns including specific phrases, vocabulary, idiomatic expressions, sentence structure, and tone.\n",
    "    {transcript_section}\n",
    "    Step 3: Calculation of Dynamic Target Word Count\n",
    "    • Calculate the Words Per Minute (WPM) for each transcript.\n",
    "    • Determine the average WPM across all provided examples.\n",
    "    • Based on the average WPM, calculate the target word count for the new text, aiming for a specific speech length (e.g., 22 seconds), making the \"Clear Target Word Count\" dynamic and adaptable.\n",
    "    • Ensure you do the math step by step to ensure accuracy.\n",
    "    Step 4: Metric-Based Learning\n",
    "    • Use detailed metrics (Lexical Diversity, Sentence Length, Tone Analysis, etc.) to quantitatively and qualitatively analyze the transcripts.\n",
    "    • Provide scores for each metric to quantify the speaking style.\n",
    "    Step 5: Text Generation\n",
    "    •\tGenerate three unique and dynamic new texts on the provided topic, ensuring each matches the identified speaking patterns, style, and metrics and fits within the dynamically calculated target word count for the specified speech length. Use clear markers to delineate each generated text for easy extraction. \n",
    "    •\tPlease mark each generated text with the following markers for easy extraction:\n",
    "    •\tFor the first text, use \"---Generated Text 1 Start---\" and \"---Generated Text 1 End---\".\n",
    "    •\tFor the second text, use \"---Generated Text 2 Start---\" and \"---Generated Text 2 End---\".\n",
    "    •\tFor the third text, use \"---Generated Text 3 Start---\" and \"---Generated Text 3 End---\".\n",
    "\n",
    "    \n",
    "    News Summary:\n",
    "    {news_summary}\n",
    "    \n",
    "    Please mark each generated text with clear separators for easy identification and extraction.\n",
    "    \"\"\"\n",
    "    return prompt_text\n",
    "\n",
    "# Parameters: Transcripts and their speech lengths, News Summary\n",
    "transcripts = [\n",
    "    (\"A disease 10 times more contagious than Covid is sweeping Europe and outbreaks are also appearing in America. There's been a 30-fold increase in cases in Europe, that was in 2023, with 21,000 hospitalisations. The disease is measles and it's spreading because not enough people are getting vaccinated, according to doctors.\", 24),\n",
    "    (\"The president of one of the top universities in the world has been forced to resign after being accused of plagiarism. Claudine Gay at Harvard either didn't use the right quotation marks or didn't give the right credits in her work. She also faced a massive backlash for the way Harvard responded to anti-semitism on campus.\", 21),\n",
    "    (\"Donald Trump didn't just win this first vote in his bid to become president again. It was an absolute landslide. More than half the Republicans in Iowa who voted, voted for him. And that's unprecedented in a caucus as they're called. It was probably one of the most astonishing comebacks in American political history.\", 21),\n",
    "]\n",
    "news_summary = \"China's banks offer red envelopes to encourage retirement savings: China's banks are offering red envelopes filled with cash to customers who register for private-pension accounts, as part of a push to get citizens thinking about retirement. Under a law introduced last November, workers may set aside savings in tax-deferred accounts accessible upon retirement. Savers can deduct contributions from taxable income, pay no tax on capital gains, and only a 3% tax rate at the time of distribution. Concerns about the failing private pension system in China: Chinese workers retire young, as early as 50 for women and 60 for men. China's compulsory basic pension will be in deficit by 2028 and run out entirely by 2035. The value of China's private pensions is estimated to reach at least $1.7 trillion by 2025. However, the current pension system is facing challenges in getting people to save and invest their funds. Challenges and issues with China's pension system: Banks have struggled to get customers to actually save and invest in pension accounts. In March, fewer than one-third of accounts contained funds. Some of the problems facing the pension system include lack of awareness among workers, the perception of financial markets as risky, and limited investment options within China's domestic economy. The future outlook for China's private pension system: Pension pots in China cannot be invested offshore, limiting their ability to escape a weak domestic economy. The government is expected to raise the retirement age, further delaying when savers can gain access to their investments. The failing private pension system adds to the list of challenges for Chinese policymakers.\""
   ]
  },
  {
   "cell_type": "code",
   "execution_count": 9,
   "metadata": {},
   "outputs": [],
   "source": [
    "# Generating the prompt with parameters\n",
    "prompt_text = generate_prompt(transcripts, news_summary)"
   ]
  },
  {
   "cell_type": "code",
   "execution_count": 12,
   "metadata": {},
   "outputs": [
    {
     "ename": "APIRemovedInV1",
     "evalue": "\n\nYou tried to access openai.ChatCompletion, but this is no longer supported in openai>=1.0.0 - see the README at https://github.com/openai/openai-python for the API.\n\nYou can run `openai migrate` to automatically upgrade your codebase to use the 1.0.0 interface. \n\nAlternatively, you can pin your installation to the old version, e.g. `pip install openai==0.28`\n\nA detailed migration guide is available here: https://github.com/openai/openai-python/discussions/742\n",
     "output_type": "error",
     "traceback": [
      "\u001b[0;31m---------------------------------------------------------------------------\u001b[0m",
      "\u001b[0;31mAPIRemovedInV1\u001b[0m                            Traceback (most recent call last)",
      "Cell \u001b[0;32mIn[12], line 2\u001b[0m\n\u001b[1;32m      1\u001b[0m \u001b[38;5;66;03m# Sending the prompt to the OpenAI API correctly\u001b[39;00m\n\u001b[0;32m----> 2\u001b[0m response \u001b[38;5;241m=\u001b[39m \u001b[43mopenai\u001b[49m\u001b[38;5;241;43m.\u001b[39;49m\u001b[43mChatCompletion\u001b[49m\u001b[38;5;241;43m.\u001b[39;49m\u001b[43mcreate\u001b[49m\u001b[43m(\u001b[49m\n\u001b[1;32m      3\u001b[0m \u001b[43m    \u001b[49m\u001b[43mmodel\u001b[49m\u001b[38;5;241;43m=\u001b[39;49m\u001b[38;5;124;43m\"\u001b[39;49m\u001b[38;5;124;43mgpt-4\u001b[39;49m\u001b[38;5;124;43m\"\u001b[39;49m\u001b[43m,\u001b[49m\n\u001b[1;32m      4\u001b[0m \u001b[43m    \u001b[49m\u001b[43mmessages\u001b[49m\u001b[38;5;241;43m=\u001b[39;49m\u001b[43m[\u001b[49m\u001b[43m{\u001b[49m\u001b[38;5;124;43m\"\u001b[39;49m\u001b[38;5;124;43mrole\u001b[39;49m\u001b[38;5;124;43m\"\u001b[39;49m\u001b[43m:\u001b[49m\u001b[43m \u001b[49m\u001b[38;5;124;43m\"\u001b[39;49m\u001b[38;5;124;43muser\u001b[39;49m\u001b[38;5;124;43m\"\u001b[39;49m\u001b[43m,\u001b[49m\u001b[43m \u001b[49m\u001b[38;5;124;43m\"\u001b[39;49m\u001b[38;5;124;43mcontent\u001b[39;49m\u001b[38;5;124;43m\"\u001b[39;49m\u001b[43m:\u001b[49m\u001b[43m \u001b[49m\u001b[43mprompt_text\u001b[49m\u001b[43m}\u001b[49m\u001b[43m]\u001b[49m\u001b[43m,\u001b[49m\n\u001b[1;32m      5\u001b[0m \u001b[43m)\u001b[49m\n\u001b[1;32m      7\u001b[0m \u001b[38;5;66;03m# Printing the response correctly\u001b[39;00m\n\u001b[1;32m      8\u001b[0m \u001b[38;5;28mprint\u001b[39m(response)\n",
      "File \u001b[0;32m~/anaconda3/envs/myenvironment/lib/python3.10/site-packages/openai/lib/_old_api.py:39\u001b[0m, in \u001b[0;36mAPIRemovedInV1Proxy.__call__\u001b[0;34m(self, *_args, **_kwargs)\u001b[0m\n\u001b[1;32m     38\u001b[0m \u001b[38;5;28;01mdef\u001b[39;00m \u001b[38;5;21m__call__\u001b[39m(\u001b[38;5;28mself\u001b[39m, \u001b[38;5;241m*\u001b[39m_args: Any, \u001b[38;5;241m*\u001b[39m\u001b[38;5;241m*\u001b[39m_kwargs: Any) \u001b[38;5;241m-\u001b[39m\u001b[38;5;241m>\u001b[39m Any:\n\u001b[0;32m---> 39\u001b[0m     \u001b[38;5;28;01mraise\u001b[39;00m APIRemovedInV1(symbol\u001b[38;5;241m=\u001b[39m\u001b[38;5;28mself\u001b[39m\u001b[38;5;241m.\u001b[39m_symbol)\n",
      "\u001b[0;31mAPIRemovedInV1\u001b[0m: \n\nYou tried to access openai.ChatCompletion, but this is no longer supported in openai>=1.0.0 - see the README at https://github.com/openai/openai-python for the API.\n\nYou can run `openai migrate` to automatically upgrade your codebase to use the 1.0.0 interface. \n\nAlternatively, you can pin your installation to the old version, e.g. `pip install openai==0.28`\n\nA detailed migration guide is available here: https://github.com/openai/openai-python/discussions/742\n"
     ]
    }
   ],
   "source": [
    "# Sending the prompt to the OpenAI API correctly\n",
    "response = openai.ChatCompletion.create(\n",
    "    model=\"gpt-4\",\n",
    "    messages=[{\"role\": \"user\", \"content\": prompt_text}],\n",
    ")\n",
    "\n",
    "# Printing the response correctly\n",
    "print(response)"
   ]
  },
  {
   "cell_type": "code",
   "execution_count": null,
   "metadata": {},
   "outputs": [],
   "source": [
    "# Full response text\n",
    "full_response_text = response.choices[0].text"
   ]
  },
  {
   "cell_type": "code",
   "execution_count": null,
   "metadata": {},
   "outputs": [],
   "source": [
    "def extract_generated_texts(full_response_text):\n",
    "    generated_texts = []\n",
    "    for i in range(1, 4):  # Assuming 3 generated texts as requested\n",
    "        start_marker = f\"---Generated Text {i} Start---\"\n",
    "        end_marker = f\"---Generated Text {i} End---\"\n",
    "        start_idx = full_response_text.find(start_marker) + len(start_marker)\n",
    "        end_idx = full_response_text.find(end_marker)\n",
    "        text = full_response_text[start_idx:end_idx].strip()\n",
    "        generated_texts.append(text)\n",
    "    \n",
    "    return generated_texts\n",
    "\n",
    "# Extract and print each generated text\n",
    "extracted_texts = extract_generated_texts(full_response_text)\n",
    "for i, text in enumerate(extracted_texts, 1):\n",
    "    print(f\"Generated Text {i}:\\n{text}\\n\")"
   ]
  }
 ],
 "metadata": {
  "kernelspec": {
   "display_name": "myenvironment",
   "language": "python",
   "name": "python3"
  },
  "language_info": {
   "codemirror_mode": {
    "name": "ipython",
    "version": 3
   },
   "file_extension": ".py",
   "mimetype": "text/x-python",
   "name": "python",
   "nbconvert_exporter": "python",
   "pygments_lexer": "ipython3",
   "version": "3.10.11"
  }
 },
 "nbformat": 4,
 "nbformat_minor": 2
}
